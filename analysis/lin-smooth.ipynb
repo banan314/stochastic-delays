{
 "cells": [
  {
   "cell_type": "code",
   "execution_count": 1,
   "metadata": {},
   "outputs": [],
   "source": [
    "import sys\n",
    "sys.path.append(\"../../\")"
   ]
  },
  {
   "cell_type": "code",
   "execution_count": 2,
   "metadata": {},
   "outputs": [],
   "source": [
    "from delay.delay import *\n",
    "import delay.calculator as calc\n",
    "from delay.strategy import fA_Smooth, fB_Smooth, showSmoothFunctions\n",
    "from delay.simulation import Simulation, FunctionType\n",
    "from delay.regression import linearRegression, Dependence\n",
    "from delay.value import calculateValue\n",
    "import pandas as pd"
   ]
  },
  {
   "cell_type": "code",
   "execution_count": 3,
   "metadata": {},
   "outputs": [],
   "source": [
    "filePrefix = 'lin-smooth'"
   ]
  },
  {
   "cell_type": "code",
   "execution_count": 4,
   "metadata": {},
   "outputs": [
    {
     "data": {
      "text/plain": [
       "{'N=20': {'ds': {'tau=1': '../../csv/N=20/lin-smooth-ds-tau-1.csv',\n",
       "   'tau=2': '../../csv/N=20/lin-smooth-ds-tau-2.csv',\n",
       "   'tau=3': '../../csv/N=20/lin-smooth-ds-tau-3.csv',\n",
       "   'tau=4': '../../csv/N=20/lin-smooth-ds-tau-4.csv',\n",
       "   'tau=5': '../../csv/N=20/lin-smooth-ds-tau-5.csv',\n",
       "   'tau=6': '../../csv/N=20/lin-smooth-ds-tau-6.csv',\n",
       "   'tau=20': '../../csv/N=20/lin-smooth-ds-tau-20.csv',\n",
       "   'tau=50': '../../csv/N=20/lin-smooth-ds-tau-50.csv'},\n",
       "  'taus': {'d=1': '../../csv/N=20/lin-smooth-taus-d-1.csv',\n",
       "   'd=2': '../../csv/N=20/lin-smooth-taus-d-2.csv',\n",
       "   'd=3': '../../csv/N=20/lin-smooth-taus-d-3.csv',\n",
       "   'd=20': '../../csv/N=20/lin-smooth-taus-d-20.csv',\n",
       "   'd=50': '../../csv/N=20/lin-smooth-taus-d-50.csv',\n",
       "   'd=150': '../../csv/N=20/lin-smooth-taus-d-150.csv'}},\n",
       " 'N=100': {'ds': {'tau=1': '../../csv/N=100/lin-smooth-ds-tau-1.csv',\n",
       "   'tau=2': '../../csv/N=100/lin-smooth-ds-tau-2.csv',\n",
       "   'tau=3': '../../csv/N=100/lin-smooth-ds-tau-3.csv',\n",
       "   'tau=4': '../../csv/N=100/lin-smooth-ds-tau-4.csv',\n",
       "   'tau=5': '../../csv/N=100/lin-smooth-ds-tau-5.csv',\n",
       "   'tau=6': '../../csv/N=100/lin-smooth-ds-tau-6.csv',\n",
       "   'tau=20': '../../csv/N=100/lin-smooth-ds-tau-20.csv',\n",
       "   'tau=50': '../../csv/N=100/lin-smooth-ds-tau-50.csv'},\n",
       "  'taus': {'d=1': '../../csv/N=100/lin-smooth-taus-d-1.csv',\n",
       "   'd=2': '../../csv/N=100/lin-smooth-taus-d-2.csv',\n",
       "   'd=3': '../../csv/N=100/lin-smooth-taus-d-3.csv',\n",
       "   'd=20': '../../csv/N=100/lin-smooth-taus-d-20.csv',\n",
       "   'd=50': '../../csv/N=100/lin-smooth-taus-d-50.csv',\n",
       "   'd=150': '../../csv/N=100/lin-smooth-taus-d-150.csv'}},\n",
       " 'N=300': {'ds': {'tau=1': '../../csv/N=300/lin-smooth-ds-tau-1.csv',\n",
       "   'tau=2': '../../csv/N=300/lin-smooth-ds-tau-2.csv',\n",
       "   'tau=3': '../../csv/N=300/lin-smooth-ds-tau-3.csv',\n",
       "   'tau=4': '../../csv/N=300/lin-smooth-ds-tau-4.csv',\n",
       "   'tau=5': '../../csv/N=300/lin-smooth-ds-tau-5.csv',\n",
       "   'tau=6': '../../csv/N=300/lin-smooth-ds-tau-6.csv',\n",
       "   'tau=20': '../../csv/N=300/lin-smooth-ds-tau-20.csv',\n",
       "   'tau=50': '../../csv/N=300/lin-smooth-ds-tau-50.csv'},\n",
       "  'taus': {'d=1': '../../csv/N=300/lin-smooth-taus-d-1.csv',\n",
       "   'd=2': '../../csv/N=300/lin-smooth-taus-d-2.csv',\n",
       "   'd=3': '../../csv/N=300/lin-smooth-taus-d-3.csv',\n",
       "   'd=20': '../../csv/N=300/lin-smooth-taus-d-20.csv',\n",
       "   'd=50': '../../csv/N=300/lin-smooth-taus-d-50.csv',\n",
       "   'd=150': '../../csv/N=300/lin-smooth-taus-d-150.csv'}},\n",
       " 'N=500': {'ds': {'tau=1': '../../csv/N=500/lin-smooth-ds-tau-1.csv',\n",
       "   'tau=2': '../../csv/N=500/lin-smooth-ds-tau-2.csv',\n",
       "   'tau=3': '../../csv/N=500/lin-smooth-ds-tau-3.csv',\n",
       "   'tau=4': '../../csv/N=500/lin-smooth-ds-tau-4.csv',\n",
       "   'tau=5': '../../csv/N=500/lin-smooth-ds-tau-5.csv',\n",
       "   'tau=6': '../../csv/N=500/lin-smooth-ds-tau-6.csv',\n",
       "   'tau=20': '../../csv/N=500/lin-smooth-ds-tau-20.csv',\n",
       "   'tau=50': '../../csv/N=500/lin-smooth-ds-tau-50.csv'},\n",
       "  'taus': {'d=1': '../../csv/N=500/lin-smooth-taus-d-1.csv',\n",
       "   'd=2': '../../csv/N=500/lin-smooth-taus-d-2.csv',\n",
       "   'd=3': '../../csv/N=500/lin-smooth-taus-d-3.csv',\n",
       "   'd=20': '../../csv/N=500/lin-smooth-taus-d-20.csv',\n",
       "   'd=50': '../../csv/N=500/lin-smooth-taus-d-50.csv',\n",
       "   'd=150': '../../csv/N=500/lin-smooth-taus-d-150.csv'}}}"
      ]
     },
     "execution_count": 4,
     "metadata": {},
     "output_type": "execute_result"
    }
   ],
   "source": [
    "%run csvFilename.py\n",
    "csvFilename = createCSVFilename(filePrefix)\n",
    "csvFilename"
   ]
  },
  {
   "cell_type": "code",
   "execution_count": null,
   "metadata": {},
   "outputs": [],
   "source": []
  },
  {
   "cell_type": "code",
   "execution_count": 4,
   "metadata": {
    "pycharm": {
     "is_executing": false
    }
   },
   "outputs": [],
   "source": [
    "simulation = Simulation(FunctionType.SMOOTH, (0, 0), calculateValue, calc.linear(N=100, w=0.99))\n",
    "simulation.setN(100)\n",
    "simulation.setConv(100)\n",
    "simulation.setDuration(100000000) # 10^8\n",
    "simulation.setD(20)\n",
    "simulation.setOmega(1)"
   ]
  },
  {
   "cell_type": "code",
   "execution_count": 5,
   "metadata": {},
   "outputs": [
    {
     "data": {
      "image/png": "[encoded data removed]",
      "text/plain": [
       "<Figure size 432x288 with 1 Axes>"
      ]
     },
     "metadata": {
      "needs_background": "light"
     },
     "output_type": "display_data"
    }
   ],
   "source": [
    "N = 100\n",
    "showSmoothFunctions(fA_Smooth, fB_Smooth, N, d=20, omega=1)"
   ]
  },
  {
   "cell_type": "code",
   "execution_count": 6,
   "metadata": {},
   "outputs": [
    {
     "data": {
      "image/png": "[encoded data removed]",
      "text/plain": [
       "<Figure size 432x288 with 1 Axes>"
      ]
     },
     "metadata": {
      "needs_background": "light"
     },
     "output_type": "display_data"
    }
   ],
   "source": [
    "calc.plot(calc.smooth(d=20))"
   ]
  },
  {
   "cell_type": "code",
   "execution_count": 7,
   "metadata": {},
   "outputs": [
    {
     "name": "stdout",
     "output_type": "stream",
     "text": [
      "µ =  0.014208290686985791\n"
     ]
    },
    {
     "data": {
      "image/png": "[encoded data removed]",
      "text/plain": [
       "<Figure size 432x288 with 1 Axes>"
      ]
     },
     "metadata": {
      "needs_background": "light"
     },
     "output_type": "display_data"
    }
   ],
   "source": [
    "simulation.setTau((0, 0))\n",
    "simulation.run()\n",
    "simulation.plotOnlyHistogram('../../../draft/img/results/'+filePrefix+'/histogram0')"
   ]
  },
  {
   "cell_type": "code",
   "execution_count": 8,
   "metadata": {},
   "outputs": [
    {
     "name": "stdout",
     "output_type": "stream",
     "text": [
      "µ =  -2.6877165572352464\n"
     ]
    },
    {
     "data": {
      "image/png": "[encoded data removed]",
      "text/plain": [
       "<Figure size 432x288 with 1 Axes>"
      ]
     },
     "metadata": {
      "needs_background": "light"
     },
     "output_type": "display_data"
    }
   ],
   "source": [
    "simulation.setTau((20, 0))\n",
    "simulation.run()\n",
    "simulation.plotOnlyHistogram('../../../draft/img/results/'+filePrefix+'/histogram-tauA')"
   ]
  },
  {
   "cell_type": "code",
   "execution_count": 9,
   "metadata": {},
   "outputs": [
    {
     "name": "stdout",
     "output_type": "stream",
     "text": [
      "µ =  2.7257042880309026\n"
     ]
    },
    {
     "data": {
      "image/png": "[encoded data removed]",
      "text/plain": [
       "<Figure size 432x288 with 1 Axes>"
      ]
     },
     "metadata": {
      "needs_background": "light"
     },
     "output_type": "display_data"
    }
   ],
   "source": [
    "simulation.setTau((0, 20))\n",
    "simulation.run()\n",
    "simulation.plotOnlyHistogram('../../../draft/img/results/'+filePrefix+'/histogram-tauB')"
   ]
  },
  {
   "cell_type": "code",
   "execution_count": 10,
   "metadata": {},
   "outputs": [],
   "source": [
    "simulation.setIterations(10)"
   ]
  },
  {
   "cell_type": "code",
   "execution_count": 11,
   "metadata": {},
   "outputs": [
    {
     "name": "stdout",
     "output_type": "stream",
     "text": [
      "d, τ, µ\n",
      "20 ,  0 ,  -0.05919178799496374\n",
      "20 ,  2 ,  -0.16648156149688723\n",
      "20 ,  4 ,  -0.41686401138929824\n",
      "20 ,  6 ,  -0.7186705695633108\n",
      "20 ,  8 ,  -1.1047056900984409\n",
      "20 ,  10 ,  -1.3172644883770992\n",
      "20 ,  12 ,  -1.620313174473603\n",
      "20 ,  14 ,  -1.941089198345563\n",
      "20 ,  16 ,  -2.206709983790582\n",
      "20 ,  18 ,  -2.433988012003598\n",
      "20 ,  20 ,  -2.7342346119295784\n",
      "20 ,  22 ,  -2.9726719337521113\n",
      "20 ,  24 ,  -3.1957265117622833\n",
      "20 ,  26 ,  -3.38464477677714\n",
      "20 ,  28 ,  -3.5958392151697525\n",
      "20 ,  30 ,  -3.7706034737542637\n",
      "20 ,  32 ,  -3.913394638909714\n",
      "20 ,  34 ,  -4.101545918035273\n",
      "20 ,  36 ,  -4.184734673268151\n",
      "20 ,  38 ,  -4.276870016253619\n",
      "20 ,  40 ,  -4.308837524040644\n",
      "20 ,  42 ,  -4.39087665567984\n",
      "20 ,  44 ,  -4.438551423408686\n",
      "20 ,  46 ,  -4.4318435970747805\n",
      "20 ,  48 ,  -4.507987454751748\n",
      "20 ,  50 ,  -4.478474778670982\n",
      "20 ,  52 ,  -4.524195046439319\n",
      "20 ,  54 ,  -4.503675365478343\n",
      "20 ,  56 ,  -4.5206931573137\n",
      "20 ,  58 ,  -4.497190800765596\n",
      "20 ,  60 ,  -4.545037715848201\n",
      "20 ,  62 ,  -4.5430673691738015\n",
      "20 ,  64 ,  -4.526792991615787\n",
      "20 ,  66 ,  -4.550809486398189\n",
      "20 ,  68 ,  -4.576272713880488\n"
     ]
    }
   ],
   "source": [
    "taus, mus = [], [] \n",
    "simulation.setD(20)\n",
    "\n",
    "print('d, τ, µ')\n",
    "for i in range(0, 35):\n",
    "    tauA = i * 2\n",
    "    simulation.setTau((tauA, 0))\n",
    "    simulation.run()\n",
    "    simulation.systematicInfo()\n",
    "    taus.append(tauA)\n",
    "    mus.append(simulation.getAverage())\n",
    "\n",
    "steps = len(taus)\n",
    "data = {'d': [20]*steps, 'τ': taus, 'µ': mus}\n",
    "df = pd.DataFrame(data = data)\n",
    "df.to_csv(csvFilename['taus']);"
   ]
  },
  {
   "cell_type": "code",
   "execution_count": 4,
   "metadata": {},
   "outputs": [
    {
     "name": "stdout",
     "output_type": "stream",
     "text": [
      "Mean squared error: 0.13\n",
      "Variance score: 0.94\n",
      "Line: -0.10x + -0.474580\n"
     ]
    },
    {
     "data": {
      "image/png": "[encoded data removed]",
      "text/plain": [
       "<Figure size 576x432 with 1 Axes>"
      ]
     },
     "metadata": {
      "needs_background": "light"
     },
     "output_type": "display_data"
    }
   ],
   "source": [
    "df = pd.read_csv(csvFilename['taus'])\n",
    "toDict = df.to_dict('l')\n",
    "taus = toDict['τ']\n",
    "mus = toDict['µ']\n",
    "\n",
    "linearRegression(taus, mus, Dependence.TAU, '../../../draft/img/results/'+filePrefix+'/tau-d50', forHalfN=True, N=100);"
   ]
  },
  {
   "cell_type": "code",
   "execution_count": 13,
   "metadata": {},
   "outputs": [
    {
     "name": "stdout",
     "output_type": "stream",
     "text": [
      "d, τ, µ\n"
     ]
    },
    {
     "ename": "KeyboardInterrupt",
     "evalue": "",
     "output_type": "error",
     "traceback": [
      "\u001b[0;31m---------------------------------------------------------------------------\u001b[0m",
      "\u001b[0;31mKeyboardInterrupt\u001b[0m                         Traceback (most recent call last)",
      "\u001b[0;32m<ipython-input-13-7b97199b0bb2>\u001b[0m in \u001b[0;36m<module>\u001b[0;34m\u001b[0m\n\u001b[1;32m      8\u001b[0m \u001b[0;32mfor\u001b[0m \u001b[0md\u001b[0m \u001b[0;32min\u001b[0m \u001b[0m_\u001b[0m\u001b[0;34m:\u001b[0m\u001b[0;34m\u001b[0m\u001b[0;34m\u001b[0m\u001b[0m\n\u001b[1;32m      9\u001b[0m     \u001b[0msimulation\u001b[0m\u001b[0;34m.\u001b[0m\u001b[0msetD\u001b[0m\u001b[0;34m(\u001b[0m\u001b[0md\u001b[0m\u001b[0;34m)\u001b[0m\u001b[0;34m\u001b[0m\u001b[0;34m\u001b[0m\u001b[0m\n\u001b[0;32m---> 10\u001b[0;31m     \u001b[0msimulation\u001b[0m\u001b[0;34m.\u001b[0m\u001b[0mrun\u001b[0m\u001b[0;34m(\u001b[0m\u001b[0;34m)\u001b[0m\u001b[0;34m\u001b[0m\u001b[0;34m\u001b[0m\u001b[0m\n\u001b[0m\u001b[1;32m     11\u001b[0m     \u001b[0msimulation\u001b[0m\u001b[0;34m.\u001b[0m\u001b[0msystematicInfo\u001b[0m\u001b[0;34m(\u001b[0m\u001b[0;34m)\u001b[0m\u001b[0;34m\u001b[0m\u001b[0;34m\u001b[0m\u001b[0m\n\u001b[1;32m     12\u001b[0m     \u001b[0mds\u001b[0m\u001b[0;34m.\u001b[0m\u001b[0mappend\u001b[0m\u001b[0;34m(\u001b[0m\u001b[0md\u001b[0m\u001b[0;34m)\u001b[0m\u001b[0;34m\u001b[0m\u001b[0;34m\u001b[0m\u001b[0m\n",
      "\u001b[0;32m~/Documents/bioinformatyka/grant/simulations/delay/simulation.py\u001b[0m in \u001b[0;36mrun\u001b[0;34m(self)\u001b[0m\n\u001b[1;32m    143\u001b[0m             \u001b[0;32mtry\u001b[0m\u001b[0;34m:\u001b[0m\u001b[0;34m\u001b[0m\u001b[0;34m\u001b[0m\u001b[0m\n\u001b[1;32m    144\u001b[0m                 \u001b[0;32mfor\u001b[0m \u001b[0m_\u001b[0m \u001b[0;32min\u001b[0m \u001b[0mrange\u001b[0m\u001b[0;34m(\u001b[0m\u001b[0;36m0\u001b[0m\u001b[0;34m,\u001b[0m \u001b[0mself\u001b[0m\u001b[0;34m.\u001b[0m\u001b[0mduration\u001b[0m\u001b[0;34m)\u001b[0m\u001b[0;34m:\u001b[0m\u001b[0;34m\u001b[0m\u001b[0;34m\u001b[0m\u001b[0m\n\u001b[0;32m--> 145\u001b[0;31m                     \u001b[0mpreviousA\u001b[0m\u001b[0;34m,\u001b[0m \u001b[0mpreviousB\u001b[0m \u001b[0;34m=\u001b[0m \u001b[0mself\u001b[0m\u001b[0;34m.\u001b[0m\u001b[0mfA\u001b[0m\u001b[0;34m(\u001b[0m\u001b[0mself\u001b[0m\u001b[0;34m.\u001b[0m\u001b[0mx\u001b[0m\u001b[0;34m[\u001b[0m\u001b[0mcurrent\u001b[0m \u001b[0;34m-\u001b[0m \u001b[0mself\u001b[0m\u001b[0;34m.\u001b[0m\u001b[0mtauA\u001b[0m\u001b[0;34m]\u001b[0m\u001b[0;34m)\u001b[0m\u001b[0;34m,\u001b[0m \u001b[0mself\u001b[0m\u001b[0;34m.\u001b[0m\u001b[0mfB\u001b[0m\u001b[0;34m(\u001b[0m\u001b[0mself\u001b[0m\u001b[0;34m.\u001b[0m\u001b[0mx\u001b[0m\u001b[0;34m[\u001b[0m\u001b[0mcurrent\u001b[0m \u001b[0;34m-\u001b[0m \u001b[0mself\u001b[0m\u001b[0;34m.\u001b[0m\u001b[0mtauB\u001b[0m\u001b[0;34m]\u001b[0m\u001b[0;34m)\u001b[0m\u001b[0;34m\u001b[0m\u001b[0;34m\u001b[0m\u001b[0m\n\u001b[0m\u001b[1;32m    146\u001b[0m \u001b[0;34m\u001b[0m\u001b[0m\n\u001b[1;32m    147\u001b[0m                     \u001b[0mprob\u001b[0m \u001b[0;34m=\u001b[0m \u001b[0mself\u001b[0m\u001b[0;34m.\u001b[0m\u001b[0mcalculateProbability\u001b[0m\u001b[0;34m(\u001b[0m\u001b[0mpreviousA\u001b[0m \u001b[0;34m-\u001b[0m \u001b[0mpreviousB\u001b[0m\u001b[0;34m)\u001b[0m\u001b[0;34m\u001b[0m\u001b[0;34m\u001b[0m\u001b[0m\n",
      "\u001b[0;32m~/Documents/bioinformatyka/grant/simulations/delay/strategy.py\u001b[0m in \u001b[0;36mcompute\u001b[0;34m(x)\u001b[0m\n\u001b[1;32m     74\u001b[0m \u001b[0;32mdef\u001b[0m \u001b[0mfB_Smooth\u001b[0m\u001b[0;34m(\u001b[0m\u001b[0mN\u001b[0m\u001b[0;34m,\u001b[0m \u001b[0md\u001b[0m\u001b[0;34m,\u001b[0m \u001b[0momega\u001b[0m\u001b[0;34m)\u001b[0m\u001b[0;34m:\u001b[0m\u001b[0;34m\u001b[0m\u001b[0;34m\u001b[0m\u001b[0m\n\u001b[1;32m     75\u001b[0m     \u001b[0;32mdef\u001b[0m \u001b[0mcompute\u001b[0m\u001b[0;34m(\u001b[0m\u001b[0mx\u001b[0m\u001b[0;34m)\u001b[0m\u001b[0;34m:\u001b[0m\u001b[0;34m\u001b[0m\u001b[0;34m\u001b[0m\u001b[0m\n\u001b[0;32m---> 76\u001b[0;31m         \u001b[0;32mreturn\u001b[0m \u001b[0mN\u001b[0m \u001b[0;34m/\u001b[0m \u001b[0;36m4\u001b[0m \u001b[0;34m*\u001b[0m \u001b[0;34m(\u001b[0m\u001b[0mmath\u001b[0m\u001b[0;34m.\u001b[0m\u001b[0mtanh\u001b[0m\u001b[0;34m(\u001b[0m\u001b[0momega\u001b[0m \u001b[0;34m*\u001b[0m \u001b[0;34m(\u001b[0m\u001b[0mx\u001b[0m \u001b[0;34m+\u001b[0m \u001b[0md\u001b[0m\u001b[0;34m)\u001b[0m\u001b[0;34m)\u001b[0m \u001b[0;34m+\u001b[0m \u001b[0;36m1\u001b[0m\u001b[0;34m)\u001b[0m\u001b[0;34m\u001b[0m\u001b[0;34m\u001b[0m\u001b[0m\n\u001b[0m\u001b[1;32m     77\u001b[0m     \u001b[0;32mreturn\u001b[0m \u001b[0mcompute\u001b[0m\u001b[0;34m\u001b[0m\u001b[0;34m\u001b[0m\u001b[0m\n\u001b[1;32m     78\u001b[0m \u001b[0;34m\u001b[0m\u001b[0m\n",
      "\u001b[0;31mKeyboardInterrupt\u001b[0m: "
     ]
    }
   ],
   "source": [
    "ds, mus = [], []\n",
    "simulation.setTau((50, 0))\n",
    "\n",
    "print('d, τ, µ')\n",
    "_ = np.arange(0, 48, step=2)\n",
    "_ = np.union1d(_, np.arange(47, 51))\n",
    "_ = np.union1d(_, np.arange(52, 72, step=2))\n",
    "for d in _:\n",
    "    simulation.setD(d)\n",
    "    simulation.run()\n",
    "    simulation.systematicInfo()\n",
    "    ds.append(d)\n",
    "    mus.append(simulation.getAverage())\n",
    "    \n",
    "steps = len(ds)\n",
    "data = {'d': ds, 'τ': [50]*steps, 'µ': mus}\n",
    "df = pd.DataFrame(data = data)\n",
    "df.to_csv(csvFilename['ds']);"
   ]
  },
  {
   "cell_type": "code",
   "execution_count": 5,
   "metadata": {
    "scrolled": true
   },
   "outputs": [
    {
     "name": "stdout",
     "output_type": "stream",
     "text": [
      "Mean squared error: 0.26\n",
      "Variance score: 0.76\n",
      "Line: -0.07x + -0.714696\n"
     ]
    },
    {
     "data": {
      "image/png": "[encoded data removed]",
      "text/plain": [
       "<Figure size 576x432 with 1 Axes>"
      ]
     },
     "metadata": {
      "needs_background": "light"
     },
     "output_type": "display_data"
    }
   ],
   "source": [
    "df = pd.read_csv(csvFilename['ds'], sep=',')\n",
    "toDict = df.to_dict('l')\n",
    "ds = toDict['d']\n",
    "mus = toDict['µ']\n",
    "\n",
    "linearRegression(ds, mus, Dependence.D, '../../../draft/img/results/'+filePrefix+'/d-tau50', forHalfN=True, N=100);"
   ]
  },
  {
   "cell_type": "code",
   "execution_count": 7,
   "metadata": {
    "scrolled": true
   },
   "outputs": [
    {
     "ename": "FileNotFoundError",
     "evalue": "[Errno 2] File b'../../csv/N=100/lin-smooth-ds-tau-20.csv' does not exist: b'../../csv/N=100/lin-smooth-ds-tau-20.csv'",
     "output_type": "error",
     "traceback": [
      "\u001b[0;31m---------------------------------------------------------------------------\u001b[0m",
      "\u001b[0;31mFileNotFoundError\u001b[0m                         Traceback (most recent call last)",
      "\u001b[0;32m<ipython-input-7-e81ce4a5b80a>\u001b[0m in \u001b[0;36m<module>\u001b[0;34m\u001b[0m\n\u001b[0;32m----> 1\u001b[0;31m \u001b[0mdf\u001b[0m \u001b[0;34m=\u001b[0m \u001b[0mpd\u001b[0m\u001b[0;34m.\u001b[0m\u001b[0mread_csv\u001b[0m\u001b[0;34m(\u001b[0m\u001b[0mcsvFilename\u001b[0m\u001b[0;34m[\u001b[0m\u001b[0;34m'N=100'\u001b[0m\u001b[0;34m]\u001b[0m\u001b[0;34m[\u001b[0m\u001b[0;34m'ds'\u001b[0m\u001b[0;34m]\u001b[0m\u001b[0;34m[\u001b[0m\u001b[0;34m'tau=20'\u001b[0m\u001b[0;34m]\u001b[0m\u001b[0;34m,\u001b[0m \u001b[0msep\u001b[0m\u001b[0;34m=\u001b[0m\u001b[0;34m','\u001b[0m\u001b[0;34m)\u001b[0m\u001b[0;34m\u001b[0m\u001b[0;34m\u001b[0m\u001b[0m\n\u001b[0m\u001b[1;32m      2\u001b[0m \u001b[0mtoDict\u001b[0m \u001b[0;34m=\u001b[0m \u001b[0mdf\u001b[0m\u001b[0;34m.\u001b[0m\u001b[0mto_dict\u001b[0m\u001b[0;34m(\u001b[0m\u001b[0;34m'l'\u001b[0m\u001b[0;34m)\u001b[0m\u001b[0;34m\u001b[0m\u001b[0;34m\u001b[0m\u001b[0m\n\u001b[1;32m      3\u001b[0m \u001b[0mds\u001b[0m \u001b[0;34m=\u001b[0m \u001b[0mtoDict\u001b[0m\u001b[0;34m[\u001b[0m\u001b[0;34m'd'\u001b[0m\u001b[0;34m]\u001b[0m\u001b[0;34m\u001b[0m\u001b[0;34m\u001b[0m\u001b[0m\n\u001b[1;32m      4\u001b[0m \u001b[0mmus\u001b[0m \u001b[0;34m=\u001b[0m \u001b[0mtoDict\u001b[0m\u001b[0;34m[\u001b[0m\u001b[0;34m'µ'\u001b[0m\u001b[0;34m]\u001b[0m\u001b[0;34m\u001b[0m\u001b[0;34m\u001b[0m\u001b[0m\n\u001b[1;32m      5\u001b[0m \u001b[0;34m\u001b[0m\u001b[0m\n",
      "\u001b[0;32m~/anaconda3/lib/python3.6/site-packages/pandas/io/parsers.py\u001b[0m in \u001b[0;36mparser_f\u001b[0;34m(filepath_or_buffer, sep, delimiter, header, names, index_col, usecols, squeeze, prefix, mangle_dupe_cols, dtype, engine, converters, true_values, false_values, skipinitialspace, skiprows, skipfooter, nrows, na_values, keep_default_na, na_filter, verbose, skip_blank_lines, parse_dates, infer_datetime_format, keep_date_col, date_parser, dayfirst, iterator, chunksize, compression, thousands, decimal, lineterminator, quotechar, quoting, doublequote, escapechar, comment, encoding, dialect, tupleize_cols, error_bad_lines, warn_bad_lines, delim_whitespace, low_memory, memory_map, float_precision)\u001b[0m\n\u001b[1;32m    700\u001b[0m                     skip_blank_lines=skip_blank_lines)\n\u001b[1;32m    701\u001b[0m \u001b[0;34m\u001b[0m\u001b[0m\n\u001b[0;32m--> 702\u001b[0;31m         \u001b[0;32mreturn\u001b[0m \u001b[0m_read\u001b[0m\u001b[0;34m(\u001b[0m\u001b[0mfilepath_or_buffer\u001b[0m\u001b[0;34m,\u001b[0m \u001b[0mkwds\u001b[0m\u001b[0;34m)\u001b[0m\u001b[0;34m\u001b[0m\u001b[0;34m\u001b[0m\u001b[0m\n\u001b[0m\u001b[1;32m    703\u001b[0m \u001b[0;34m\u001b[0m\u001b[0m\n\u001b[1;32m    704\u001b[0m     \u001b[0mparser_f\u001b[0m\u001b[0;34m.\u001b[0m\u001b[0m__name__\u001b[0m \u001b[0;34m=\u001b[0m \u001b[0mname\u001b[0m\u001b[0;34m\u001b[0m\u001b[0;34m\u001b[0m\u001b[0m\n",
      "\u001b[0;32m~/anaconda3/lib/python3.6/site-packages/pandas/io/parsers.py\u001b[0m in \u001b[0;36m_read\u001b[0;34m(filepath_or_buffer, kwds)\u001b[0m\n\u001b[1;32m    427\u001b[0m \u001b[0;34m\u001b[0m\u001b[0m\n\u001b[1;32m    428\u001b[0m     \u001b[0;31m# Create the parser.\u001b[0m\u001b[0;34m\u001b[0m\u001b[0;34m\u001b[0m\u001b[0;34m\u001b[0m\u001b[0m\n\u001b[0;32m--> 429\u001b[0;31m     \u001b[0mparser\u001b[0m \u001b[0;34m=\u001b[0m \u001b[0mTextFileReader\u001b[0m\u001b[0;34m(\u001b[0m\u001b[0mfilepath_or_buffer\u001b[0m\u001b[0;34m,\u001b[0m \u001b[0;34m**\u001b[0m\u001b[0mkwds\u001b[0m\u001b[0;34m)\u001b[0m\u001b[0;34m\u001b[0m\u001b[0;34m\u001b[0m\u001b[0m\n\u001b[0m\u001b[1;32m    430\u001b[0m \u001b[0;34m\u001b[0m\u001b[0m\n\u001b[1;32m    431\u001b[0m     \u001b[0;32mif\u001b[0m \u001b[0mchunksize\u001b[0m \u001b[0;32mor\u001b[0m \u001b[0miterator\u001b[0m\u001b[0;34m:\u001b[0m\u001b[0;34m\u001b[0m\u001b[0;34m\u001b[0m\u001b[0m\n",
      "\u001b[0;32m~/anaconda3/lib/python3.6/site-packages/pandas/io/parsers.py\u001b[0m in \u001b[0;36m__init__\u001b[0;34m(self, f, engine, **kwds)\u001b[0m\n\u001b[1;32m    893\u001b[0m             \u001b[0mself\u001b[0m\u001b[0;34m.\u001b[0m\u001b[0moptions\u001b[0m\u001b[0;34m[\u001b[0m\u001b[0;34m'has_index_names'\u001b[0m\u001b[0;34m]\u001b[0m \u001b[0;34m=\u001b[0m \u001b[0mkwds\u001b[0m\u001b[0;34m[\u001b[0m\u001b[0;34m'has_index_names'\u001b[0m\u001b[0;34m]\u001b[0m\u001b[0;34m\u001b[0m\u001b[0;34m\u001b[0m\u001b[0m\n\u001b[1;32m    894\u001b[0m \u001b[0;34m\u001b[0m\u001b[0m\n\u001b[0;32m--> 895\u001b[0;31m         \u001b[0mself\u001b[0m\u001b[0;34m.\u001b[0m\u001b[0m_make_engine\u001b[0m\u001b[0;34m(\u001b[0m\u001b[0mself\u001b[0m\u001b[0;34m.\u001b[0m\u001b[0mengine\u001b[0m\u001b[0;34m)\u001b[0m\u001b[0;34m\u001b[0m\u001b[0;34m\u001b[0m\u001b[0m\n\u001b[0m\u001b[1;32m    896\u001b[0m \u001b[0;34m\u001b[0m\u001b[0m\n\u001b[1;32m    897\u001b[0m     \u001b[0;32mdef\u001b[0m \u001b[0mclose\u001b[0m\u001b[0;34m(\u001b[0m\u001b[0mself\u001b[0m\u001b[0;34m)\u001b[0m\u001b[0;34m:\u001b[0m\u001b[0;34m\u001b[0m\u001b[0;34m\u001b[0m\u001b[0m\n",
      "\u001b[0;32m~/anaconda3/lib/python3.6/site-packages/pandas/io/parsers.py\u001b[0m in \u001b[0;36m_make_engine\u001b[0;34m(self, engine)\u001b[0m\n\u001b[1;32m   1120\u001b[0m     \u001b[0;32mdef\u001b[0m \u001b[0m_make_engine\u001b[0m\u001b[0;34m(\u001b[0m\u001b[0mself\u001b[0m\u001b[0;34m,\u001b[0m \u001b[0mengine\u001b[0m\u001b[0;34m=\u001b[0m\u001b[0;34m'c'\u001b[0m\u001b[0;34m)\u001b[0m\u001b[0;34m:\u001b[0m\u001b[0;34m\u001b[0m\u001b[0;34m\u001b[0m\u001b[0m\n\u001b[1;32m   1121\u001b[0m         \u001b[0;32mif\u001b[0m \u001b[0mengine\u001b[0m \u001b[0;34m==\u001b[0m \u001b[0;34m'c'\u001b[0m\u001b[0;34m:\u001b[0m\u001b[0;34m\u001b[0m\u001b[0;34m\u001b[0m\u001b[0m\n\u001b[0;32m-> 1122\u001b[0;31m             \u001b[0mself\u001b[0m\u001b[0;34m.\u001b[0m\u001b[0m_engine\u001b[0m \u001b[0;34m=\u001b[0m \u001b[0mCParserWrapper\u001b[0m\u001b[0;34m(\u001b[0m\u001b[0mself\u001b[0m\u001b[0;34m.\u001b[0m\u001b[0mf\u001b[0m\u001b[0;34m,\u001b[0m \u001b[0;34m**\u001b[0m\u001b[0mself\u001b[0m\u001b[0;34m.\u001b[0m\u001b[0moptions\u001b[0m\u001b[0;34m)\u001b[0m\u001b[0;34m\u001b[0m\u001b[0;34m\u001b[0m\u001b[0m\n\u001b[0m\u001b[1;32m   1123\u001b[0m         \u001b[0;32melse\u001b[0m\u001b[0;34m:\u001b[0m\u001b[0;34m\u001b[0m\u001b[0;34m\u001b[0m\u001b[0m\n\u001b[1;32m   1124\u001b[0m             \u001b[0;32mif\u001b[0m \u001b[0mengine\u001b[0m \u001b[0;34m==\u001b[0m \u001b[0;34m'python'\u001b[0m\u001b[0;34m:\u001b[0m\u001b[0;34m\u001b[0m\u001b[0;34m\u001b[0m\u001b[0m\n",
      "\u001b[0;32m~/anaconda3/lib/python3.6/site-packages/pandas/io/parsers.py\u001b[0m in \u001b[0;36m__init__\u001b[0;34m(self, src, **kwds)\u001b[0m\n\u001b[1;32m   1851\u001b[0m         \u001b[0mkwds\u001b[0m\u001b[0;34m[\u001b[0m\u001b[0;34m'usecols'\u001b[0m\u001b[0;34m]\u001b[0m \u001b[0;34m=\u001b[0m \u001b[0mself\u001b[0m\u001b[0;34m.\u001b[0m\u001b[0musecols\u001b[0m\u001b[0;34m\u001b[0m\u001b[0;34m\u001b[0m\u001b[0m\n\u001b[1;32m   1852\u001b[0m \u001b[0;34m\u001b[0m\u001b[0m\n\u001b[0;32m-> 1853\u001b[0;31m         \u001b[0mself\u001b[0m\u001b[0;34m.\u001b[0m\u001b[0m_reader\u001b[0m \u001b[0;34m=\u001b[0m \u001b[0mparsers\u001b[0m\u001b[0;34m.\u001b[0m\u001b[0mTextReader\u001b[0m\u001b[0;34m(\u001b[0m\u001b[0msrc\u001b[0m\u001b[0;34m,\u001b[0m \u001b[0;34m**\u001b[0m\u001b[0mkwds\u001b[0m\u001b[0;34m)\u001b[0m\u001b[0;34m\u001b[0m\u001b[0;34m\u001b[0m\u001b[0m\n\u001b[0m\u001b[1;32m   1854\u001b[0m         \u001b[0mself\u001b[0m\u001b[0;34m.\u001b[0m\u001b[0munnamed_cols\u001b[0m \u001b[0;34m=\u001b[0m \u001b[0mself\u001b[0m\u001b[0;34m.\u001b[0m\u001b[0m_reader\u001b[0m\u001b[0;34m.\u001b[0m\u001b[0munnamed_cols\u001b[0m\u001b[0;34m\u001b[0m\u001b[0;34m\u001b[0m\u001b[0m\n\u001b[1;32m   1855\u001b[0m \u001b[0;34m\u001b[0m\u001b[0m\n",
      "\u001b[0;32mpandas/_libs/parsers.pyx\u001b[0m in \u001b[0;36mpandas._libs.parsers.TextReader.__cinit__\u001b[0;34m()\u001b[0m\n",
      "\u001b[0;32mpandas/_libs/parsers.pyx\u001b[0m in \u001b[0;36mpandas._libs.parsers.TextReader._setup_parser_source\u001b[0;34m()\u001b[0m\n",
      "\u001b[0;31mFileNotFoundError\u001b[0m: [Errno 2] File b'../../csv/N=100/lin-smooth-ds-tau-20.csv' does not exist: b'../../csv/N=100/lin-smooth-ds-tau-20.csv'"
     ]
    }
   ],
   "source": [
    "df = pd.read_csv(csvFilename['N=100']['ds']['tau=20'], sep=',')\n",
    "toDict = df.to_dict('l')\n",
    "ds = toDict['d']\n",
    "mus = toDict['µ']\n",
    "\n",
    "linearRegression(ds, mus, Dependence.D, '../../../draft/img/results/'+filePrefix+'/d-tau20', forHalfN=True, N=100);"
   ]
  }
 ],
 "metadata": {
  "hide_input": false,
  "kernelspec": {
   "display_name": "Python 3",
   "language": "python",
   "name": "python3"
  },
  "language_info": {
   "codemirror_mode": {
    "name": "ipython",
    "version": 3
   },
   "file_extension": ".py",
   "mimetype": "text/x-python",
   "name": "python",
   "nbconvert_exporter": "python",
   "pygments_lexer": "ipython3",
   "version": "3.6.10"
  },
  "latex_envs": {
   "LaTeX_envs_menu_present": true,
   "autoclose": true,
   "autocomplete": true,
   "bibliofile": "biblio.bib",
   "cite_by": "apalike",
   "current_citInitial": 1,
   "eqLabelWithNumbers": false,
   "eqNumInitial": 1,
   "hotkeys": {
    "equation": "Ctrl-E",
    "itemize": "Ctrl-I"
   },
   "labels_anchors": false,
   "latex_user_defs": false,
   "report_style_numbering": false,
   "user_envs_cfg": false
  },
  "pycharm": {
   "stem_cell": {
    "cell_type": "raw",
    "metadata": {
     "collapsed": false
    },
    "source": []
   }
  }
 },
 "nbformat": 4,
 "nbformat_minor": 2
}
