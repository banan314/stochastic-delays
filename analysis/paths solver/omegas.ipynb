{
 "cells": [
  {
   "cell_type": "code",
   "execution_count": 1,
   "metadata": {},
   "outputs": [],
   "source": [
    "import sys\n",
    "sys.path.append(\"../../\")"
   ]
  },
  {
   "cell_type": "code",
   "execution_count": 2,
   "metadata": {},
   "outputs": [],
   "source": [
    "import pandas as pd\n",
    "import numpy as np\n",
    "import matplotlib.pyplot as plt"
   ]
  },
  {
   "cell_type": "code",
   "execution_count": 6,
   "metadata": {},
   "outputs": [
    {
     "data": {
      "image/png": "[encoded data removed]",
      "text/plain": [
       "<Figure size 432x288 with 1 Axes>"
      ]
     },
     "metadata": {
      "needs_background": "light"
     },
     "output_type": "display_data"
    }
   ],
   "source": [
    "df = pd.read_csv('../../csv/omegas/N=20/lin-step-tau-1-d-2.csv', sep=',')\n",
    "toDict = df.to_dict('l')\n",
    "taus = toDict['τ']\n",
    "omegas = toDict['omega']\n",
    "mus = toDict['µ']\n",
    "\n",
    "w = 1/2 + np.array(omegas)/2\n",
    "plt.plot(w, mus);"
   ]
  },
  {
   "cell_type": "code",
   "execution_count": 13,
   "metadata": {},
   "outputs": [],
   "source": [
    "def omegaToStr(omega):\n",
    "    if omega == 0.0:\n",
    "        return '0'\n",
    "    elif omega == 1.0:\n",
    "        return '1'\n",
    "    return str(omega)"
   ]
  },
  {
   "cell_type": "code",
   "execution_count": 30,
   "metadata": {},
   "outputs": [],
   "source": [
    "for i in range(51):\n",
    "    omega = i / 50\n",
    "    w = 1/2 + omega/2\n",
    "\n",
    "    df = pd.read_csv('../../csv/omegas/N=20/histogram/lin-step-histogram-tau=1-d=2-omega' + omegaToStr(omega) + '.csv')\n",
    "    counts = df.to_dict('l')['d=2-tau=1']\n",
    "    a = counts[7]/counts[8]\n",
    "    # b = (1-w)/w\n",
    "    b = 1/(2*w)\n",
    "    if abs(a-b) > 0.001:\n",
    "        print(a, b)\n"
   ]
  },
  {
   "cell_type": "code",
   "execution_count": 41,
   "metadata": {},
   "outputs": [],
   "source": [
    "def pi2(w, a):\n",
    "    return (2*w+1)/(4*w)*a\n",
    "\n",
    "def pi3(w, a):\n",
    "    return (2*w+1)/(8*w*w)*a\n",
    "\n",
    "def pi4(w, a):\n",
    "    return 1/(8*w*w*w)*a"
   ]
  },
  {
   "cell_type": "code",
   "execution_count": 42,
   "metadata": {},
   "outputs": [
    {
     "name": "stdout",
     "output_type": "stream",
     "text": [
      "58041638 58100924 0.001\n"
     ]
    }
   ],
   "source": [
    "for i in range(51):\n",
    "    omega = i / 50\n",
    "    w = 1/2 + omega/2\n",
    "\n",
    "    df = pd.read_csv('../../csv/omegas/N=20/histogram/lin-step-histogram-tau=1-d=2-omega' + omegaToStr(omega) + '.csv')\n",
    "    counts = df.to_dict('l')['d=2-tau=1']\n",
    "    a = counts[14]\n",
    "    b = pi4(w, counts[10])\n",
    "    if abs(a-b) > 0.001*a:\n",
    "        print(round(a), round(b), round(abs(a-b)/a, 3))\n"
   ]
  },
  {
   "cell_type": "code",
   "execution_count": 45,
   "metadata": {},
   "outputs": [],
   "source": [
    "for i in range(51):\n",
    "    omega = i / 50\n",
    "    w = 1/2 + omega/2\n",
    "\n",
    "    df = pd.read_csv('../../csv/omegas/N=20/histogram/lin-step-histogram-tau=1-d=2-omega' + omegaToStr(omega) + '.csv')\n",
    "    counts = df.to_dict('l')['d=2-tau=1']\n",
    "    a = counts[13]\n",
    "    b = pi3(w, counts[10])\n",
    "    if abs(a-b) > 0.001*a:\n",
    "        print(round(a), round(b), round(abs(a-b)/a, 3))\n"
   ]
  },
  {
   "cell_type": "code",
   "execution_count": 44,
   "metadata": {},
   "outputs": [],
   "source": [
    "for i in range(51):\n",
    "    omega = i / 50\n",
    "    w = 1/2 + omega/2\n",
    "\n",
    "    df = pd.read_csv('../../csv/omegas/N=20/histogram/lin-step-histogram-tau=1-d=2-omega' + omegaToStr(omega) + '.csv')\n",
    "    counts = df.to_dict('l')['d=2-tau=1']\n",
    "    a = counts[12]\n",
    "    b = pi2(w, counts[10])\n",
    "    if abs(a-b) > 0.001*a:\n",
    "        print(round(a), round(b), round(abs(a-b)/a, 3))\n"
   ]
  }
 ],
 "metadata": {
  "hide_input": false,
  "kernelspec": {
   "display_name": "Python 3",
   "language": "python",
   "name": "python3"
  },
  "language_info": {
   "codemirror_mode": {
    "name": "ipython",
    "version": 3
   },
   "file_extension": ".py",
   "mimetype": "text/x-python",
   "name": "python",
   "nbconvert_exporter": "python",
   "pygments_lexer": "ipython3",
   "version": "3.6.10"
  },
  "latex_envs": {
   "LaTeX_envs_menu_present": true,
   "autoclose": true,
   "autocomplete": true,
   "bibliofile": "biblio.bib",
   "cite_by": "apalike",
   "current_citInitial": 1,
   "eqLabelWithNumbers": false,
   "eqNumInitial": 1,
   "hotkeys": {
    "equation": "Ctrl-E",
    "itemize": "Ctrl-I"
   },
   "labels_anchors": false,
   "latex_user_defs": false,
   "report_style_numbering": false,
   "user_envs_cfg": false
  }
 },
 "nbformat": 4,
 "nbformat_minor": 2
}
