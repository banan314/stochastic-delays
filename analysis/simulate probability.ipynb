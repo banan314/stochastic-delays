{
 "cells": [
  {
   "cell_type": "code",
   "execution_count": 2,
   "metadata": {},
   "outputs": [],
   "source": [
    "import sys\n",
    "sys.path.append(\"../\")"
   ]
  },
  {
   "cell_type": "code",
   "execution_count": 18,
   "metadata": {},
   "outputs": [],
   "source": [
    "import scipy\n",
    "from scipy import special\n",
    "\n",
    "import delay.calculator as calc\n",
    "from delay.delay import *\n",
    "import delay.model as model\n",
    "\n",
    "import numpy\n",
    "import pandas"
   ]
  },
  {
   "cell_type": "code",
   "execution_count": 21,
   "metadata": {},
   "outputs": [],
   "source": [
    "def fA(x):\n",
    "    return N/2 if  x <= d else 0\n",
    "\n",
    "def fB(x):\n",
    "    return 0 if x < -d else N/2\n",
    "\n",
    "probabilities = np.zeros(N+1, dtype=float)\n",
    "counts = np.zeros(N+1, dtype=int)\n",
    "def simulate():\n",
    "    def nextElem(func):\n",
    "        term = -N/2 if func == max else N/2\n",
    "        rc = calculateValue(previousA, previousB)\n",
    "        value = -rc if func == max else rc\n",
    "        return func(x[current] + value, term)\n",
    "    \n",
    "    current = len(x)-1\n",
    "    for _ in range(0, duration):\n",
    "        previousA, previousB = fA(x[current - tauA]), fB(x[current - tauB])\n",
    "        \n",
    "        counts[index(x[current], N)] += 1\n",
    "        if previousB < -d:\n",
    "            pass\n",
    "        elif previousA <= d:\n",
    "            probabilities[index(x[current], N)] += 0.5\n",
    "        else:\n",
    "            probabilities[index(x[current], N)] += 1.0\n",
    "            \n",
    "        prob = calculateProbability(previousA - previousB)\n",
    "        r = random.random()\n",
    "        if r <= prob:\n",
    "            nextElement = nextElem(min) # +1\n",
    "        else:\n",
    "            nextElement = nextElem(max) # -1\n",
    "                \n",
    "        x.append(nextElement)\n",
    "        current += 1"
   ]
  },
  {
   "cell_type": "code",
   "execution_count": 22,
   "metadata": {},
   "outputs": [],
   "source": [
    "N = 100\n",
    "tauA = 20\n",
    "tauB = 0\n",
    "d=20\n",
    "m = max(tauA, tauB)\n",
    "x = [0] * m + [1] \n",
    "duration = 1000000\n",
    "\n",
    "calculateProbability = calc.linear(N=100)\n",
    "\n",
    "simulate()\n",
    "            \n"
   ]
  },
  {
   "cell_type": "code",
   "execution_count": 30,
   "metadata": {},
   "outputs": [
    {
     "data": {
      "image/png": "[encoded data removed]",
      "text/plain": [
       "<Figure size 432x288 with 1 Axes>"
      ]
     },
     "metadata": {
      "needs_background": "light"
     },
     "output_type": "display_data"
    },
    {
     "name": "stdout",
     "output_type": "stream",
     "text": [
      "1.0379022898198076\n"
     ]
    }
   ],
   "source": [
    "counts = list(map(lambda x : 1 if x==0 else x, counts))\n",
    "probs = np.array(probabilities) / np.array(counts)\n",
    "model.plot(probs);\n",
    "print(probs[70] / probs[71])"
   ]
  },
  {
   "cell_type": "code",
   "execution_count": 26,
   "metadata": {},
   "outputs": [
    {
     "data": {
      "image/png": "[encoded data removed]",
      "text/plain": [
       "<Figure size 432x288 with 1 Axes>"
      ]
     },
     "metadata": {
      "needs_background": "light"
     },
     "output_type": "display_data"
    }
   ],
   "source": [
    "plt.hist(x, bins=np.linspace(-N/2-0.5, N/2+0.5, N+2));"
   ]
  }
 ],
 "metadata": {
  "kernelspec": {
   "display_name": "Python 3",
   "language": "python",
   "name": "python3"
  },
  "language_info": {
   "codemirror_mode": {
    "name": "ipython",
    "version": 3
   },
   "file_extension": ".py",
   "mimetype": "text/x-python",
   "name": "python",
   "nbconvert_exporter": "python",
   "pygments_lexer": "ipython3",
   "version": "3.6.7"
  },
  "pycharm": {
   "stem_cell": {
    "cell_type": "raw",
    "metadata": {
     "collapsed": false
    },
    "source": []
   }
  }
 },
 "nbformat": 4,
 "nbformat_minor": 2
}
