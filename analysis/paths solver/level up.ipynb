{
 "cells": [
  {
   "cell_type": "code",
   "execution_count": 2,
   "metadata": {},
   "outputs": [],
   "source": [
    "import sys\n",
    "sys.path.append(\"../../\")"
   ]
  },
  {
   "cell_type": "code",
   "execution_count": 3,
   "metadata": {},
   "outputs": [],
   "source": [
    "from fractions import Fraction\n",
    "from delay.matrix.Solver import *\n",
    "from delay.matrix.Path import *\n",
    "from delay.matrix.Matrix import *\n",
    "import numpy as np\n",
    "import pyperclip\n",
    "import matplotlib.pyplot as plt\n",
    "from matplotlib.ticker import MaxNLocator\n",
    "import pandas as pd\n",
    "import string"
   ]
  },
  {
   "cell_type": "code",
   "execution_count": 3,
   "metadata": {
    "run_control": {
     "marked": true
    }
   },
   "outputs": [],
   "source": [
    "solver3 = np.load('solver3.npy', allow_pickle=True).item()"
   ]
  },
  {
   "cell_type": "code",
   "execution_count": 16,
   "metadata": {},
   "outputs": [],
   "source": [
    "a3 = solver3.A\n",
    "\n",
    "# tau = 4\n",
    "nOfPaths4 = 2 ** 4\n",
    "n4 = nOfPaths4 * (2 * 4 + 2)\n",
    "a4 = np.zeros((n4, n4))"
   ]
  },
  {
   "cell_type": "code",
   "execution_count": 17,
   "metadata": {},
   "outputs": [],
   "source": [
    "def calculateLeftColumn(d, tau, state):\n",
    "    x = state - (d-tau)\n",
    "    return x * (2 ** tau)\n",
    "\n",
    "nOfPaths3 = 2 ** 3\n",
    "for state4 in range(1, 2*3 + 2):\n",
    "    for i in range(nOfPaths3):\n",
    "        for s3 in range(0, 2*3 + 2):\n",
    "            for j in range(nOfPaths3):\n",
    "                if state4 * (2 ** 3) + i != s3 * nOfPaths3 + j:\n",
    "                    fill = a3[state4 * (2 ** 3) + i, s3 * nOfPaths3 + j]/2\n",
    "                else:\n",
    "                    fill = a3[state4 * (2 ** 3) + i, s3 * nOfPaths3 + j]/2 + 0.5\n",
    "                a4[(2 * state4 + 1) * (2 ** 3) + i, calculateLeftColumn(4, 4, s3+1) + j] = fill\n",
    "                a4[(2 * state4 + 4) * (2 ** 3) + i, calculateLeftColumn(4, 4, s3+1) + j] = fill\n",
    "                "
   ]
  },
  {
   "cell_type": "code",
   "execution_count": 18,
   "metadata": {},
   "outputs": [],
   "source": [
    "# fill diagonal\n",
    "for i in range(nOfPaths4):\n",
    "    a4[i, i] = 1\n",
    "for i in range(nOfPaths4, n4):\n",
    "    a4[i, i] -= 1.0"
   ]
  },
  {
   "cell_type": "code",
   "execution_count": 19,
   "metadata": {},
   "outputs": [],
   "source": [
    "np.savetxt('levelUp4.tsv', a4, delimiter='\\t')"
   ]
  },
  {
   "cell_type": "code",
   "execution_count": 4,
   "metadata": {},
   "outputs": [],
   "source": [
    "solver1 = np.load('solver1.npy', allow_pickle=True).item()"
   ]
  },
  {
   "cell_type": "code",
   "execution_count": 5,
   "metadata": {},
   "outputs": [],
   "source": [
    "a1 = solver1.A\n",
    "\n",
    "# tau = 1\n",
    "nOfPaths2 = 2 ** 2\n",
    "n2 = nOfPaths2 * (2 * 2 + 2)\n",
    "a2 = np.zeros((n2, n2))"
   ]
  },
  {
   "cell_type": "code",
   "execution_count": 8,
   "metadata": {},
   "outputs": [],
   "source": [
    "def calculateLeftColumn(d, tau, state):\n",
    "    x = state - (d-tau)\n",
    "    return x * (2 ** tau)\n",
    "\n",
    "nOfPaths1 = 2 ** 1\n",
    "for state2 in range(1, 2*1 + 2):\n",
    "    for i in range(nOfPaths1):\n",
    "        for s1 in range(0, 2*1 + 2):\n",
    "            for j in range(nOfPaths1):\n",
    "                if state2 * (2 ** 1) + i != s1 * nOfPaths1 + j:\n",
    "                    fill = a1[state2 * (2 ** 1) + i, s1 * nOfPaths1 + j]/2\n",
    "                else:\n",
    "                    fill = a1[state2 * (2 ** 1) + i, s1 * nOfPaths1 + j]/2 + 0.5\n",
    "                a2[(2 * state2 + 1) * (2 ** 1) + i, calculateLeftColumn(2, 2, s1+1) + j] = fill\n",
    "                a2[(2 * state2 + 2) * (2 ** 1) + i, calculateLeftColumn(2, 2, s1+1) + j] = fill\n",
    "                "
   ]
  },
  {
   "cell_type": "code",
   "execution_count": 9,
   "metadata": {},
   "outputs": [],
   "source": [
    "# fill diagonal\n",
    "for i in range(nOfPaths2):\n",
    "    a2[i, i] = 1\n",
    "for i in range(nOfPaths2, n2):\n",
    "    a2[i, i] -= 1.0"
   ]
  },
  {
   "cell_type": "code",
   "execution_count": 11,
   "metadata": {},
   "outputs": [],
   "source": [
    "np.savetxt('levelUp2.tsv', a2, delimiter='\\t')"
   ]
  }
 ],
 "metadata": {
  "hide_input": false,
  "kernelspec": {
   "display_name": "Python 3",
   "language": "python",
   "name": "python3"
  },
  "language_info": {
   "codemirror_mode": {
    "name": "ipython",
    "version": 3
   },
   "file_extension": ".py",
   "mimetype": "text/x-python",
   "name": "python",
   "nbconvert_exporter": "python",
   "pygments_lexer": "ipython3",
   "version": "3.6.10"
  },
  "latex_envs": {
   "LaTeX_envs_menu_present": true,
   "autoclose": true,
   "autocomplete": true,
   "bibliofile": "biblio.bib",
   "cite_by": "apalike",
   "current_citInitial": 1,
   "eqLabelWithNumbers": false,
   "eqNumInitial": 1,
   "hotkeys": {
    "equation": "Ctrl-E",
    "itemize": "Ctrl-I"
   },
   "labels_anchors": false,
   "latex_user_defs": false,
   "report_style_numbering": false,
   "user_envs_cfg": false
  }
 },
 "nbformat": 4,
 "nbformat_minor": 2
}
