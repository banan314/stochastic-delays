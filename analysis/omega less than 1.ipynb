{
 "cells": [
  {
   "cell_type": "code",
   "execution_count": 51,
   "metadata": {},
   "outputs": [],
   "source": [
    "import numpy as np\n",
    "import matplotlib.pyplot as plt\n",
    "import pandas as pd"
   ]
  },
  {
   "cell_type": "markdown",
   "metadata": {},
   "source": [
    "$$\n",
    "\\omega \\in [0, 1]\\\\\n",
    "\\operatorname{w}\\left( \\omega \\right) :=\\frac{1}{2}+\\frac{\\omega}{2}  \\\\\n",
    "w \\in [\\frac{1}{2}, 1]\n",
    "$$"
   ]
  },
  {
   "cell_type": "code",
   "execution_count": 60,
   "metadata": {},
   "outputs": [],
   "source": [
    "def w(ω):\n",
    "    return 1/2+ω/2"
   ]
  },
  {
   "cell_type": "code",
   "execution_count": 4,
   "metadata": {},
   "outputs": [
    {
     "data": {
      "image/png": "[encoded data removed]",
      "text/plain": [
       "<Figure size 432x288 with 1 Axes>"
      ]
     },
     "metadata": {
      "needs_background": "light"
     },
     "output_type": "display_data"
    }
   ],
   "source": [
    "z = np.linspace(0, 1, 100)\n",
    "plt.plot(z, w(z));"
   ]
  },
  {
   "cell_type": "markdown",
   "metadata": {},
   "source": [
    "$$x(w) = \\frac{1-w}{w}$$"
   ]
  },
  {
   "cell_type": "code",
   "execution_count": 3,
   "metadata": {},
   "outputs": [],
   "source": [
    "def x(w):\n",
    "    return (1-w)/w"
   ]
  },
  {
   "cell_type": "code",
   "execution_count": 6,
   "metadata": {},
   "outputs": [
    {
     "data": {
      "image/png": "[encoded data removed]",
      "text/plain": [
       "<Figure size 432x288 with 1 Axes>"
      ]
     },
     "metadata": {
      "needs_background": "light"
     },
     "output_type": "display_data"
    }
   ],
   "source": [
    "z = np.linspace(0.5, 1, 100)\n",
    "plt.plot(z, x(z));"
   ]
  },
  {
   "cell_type": "markdown",
   "metadata": {},
   "source": [
    "Sum of $\\pi$ from $a$ to $b$\n",
    "$$\n",
    "a, b \\in \\mathrm{Z} \\\\\n",
    "a < b \\\\\n",
    "\\operatorname{Spi}\\left( x,a,b\\right) :=\\frac{bx^{b-a+1}}{\\left( x-1\\right)} + \\frac{ a\\, - {{x}({a-1})}- {x^{b-a+1}}  }{\\left( x-1\\right)^2}\n",
    "$$"
   ]
  },
  {
   "cell_type": "code",
   "execution_count": 4,
   "metadata": {},
   "outputs": [],
   "source": [
    "def Spi(x, a, b):\n",
    "    if x == 1:\n",
    "        return (b**2 + b - a**2 + a)/2\n",
    "    return b*x**(b-a+1)/(x-1) + (a-x*(a-1) - x**(b-a+1))/(x-1)**2"
   ]
  },
  {
   "cell_type": "code",
   "execution_count": 8,
   "metadata": {},
   "outputs": [
    {
     "data": {
      "text/plain": [
       "24.0"
      ]
     },
     "execution_count": 8,
     "metadata": {},
     "output_type": "execute_result"
    }
   ],
   "source": [
    "Spi(2, 2, 4)"
   ]
  },
  {
   "cell_type": "code",
   "execution_count": 9,
   "metadata": {},
   "outputs": [
    {
     "data": {
      "image/png": "[encoded data removed]",
      "text/plain": [
       "<Figure size 432x288 with 1 Axes>"
      ]
     },
     "metadata": {
      "needs_background": "light"
     },
     "output_type": "display_data"
    }
   ],
   "source": [
    "z = np.linspace(0, 1, 100)\n",
    "plt.plot(z, [Spi(z, 2, 5) for z in z]);"
   ]
  },
  {
   "cell_type": "markdown",
   "metadata": {},
   "source": [
    "$$\\operatorname{\\pi_2}\\left( w,a\\right) := \\frac{2w + 1}{4w}\\, a$$\n",
    "\n",
    "$$ \\operatorname{\\pi_3}\\left( w,a\\right) := \\frac{2w + 1}{8w^2}\\, a$$\n",
    "\n",
    "$$ \\operatorname{\\pi_4}\\left( w,a\\right) := \\frac{1}{8w^3} a$$"
   ]
  },
  {
   "cell_type": "code",
   "execution_count": 12,
   "metadata": {},
   "outputs": [],
   "source": [
    "def pi2(w, a):\n",
    "    return (2*w+1)/(4*w)*a\n",
    "\n",
    "def pi3(w, a):\n",
    "    return (2*w+1)/(8*w*w)*a\n",
    "\n",
    "def pi4(w, a):\n",
    "    return 1/(8*w*w*w)*a"
   ]
  },
  {
   "cell_type": "code",
   "execution_count": 22,
   "metadata": {},
   "outputs": [
    {
     "name": "stdout",
     "output_type": "stream",
     "text": [
      "0.75\n",
      "0.375\n",
      "0.125\n"
     ]
    }
   ],
   "source": [
    "print(pi2(1, 1))\n",
    "print(pi3(1, 1))\n",
    "print(pi4(1, 1))"
   ]
  },
  {
   "cell_type": "markdown",
   "metadata": {},
   "source": [
    "$$\\operatorname{\\mu}\\left( w,a,N\\right) := -\\operatorname{Spi}( x, 3,\\frac{N}{2}) \\frac{a}{2w} - 2a + 2 \\operatorname{\\pi_2}\\left( w,a\\right) +3 \\operatorname{\\pi_3}\\left( w,a\\right) +\\operatorname{Spi}\\left( x,4,\\frac{N}{2}\\right)  \\operatorname{\\pi_4}\\left( w,a\\right) \\\\\n",
    "x = \\frac{1-w}{w}\n",
    "$$"
   ]
  },
  {
   "cell_type": "code",
   "execution_count": 6,
   "metadata": {},
   "outputs": [],
   "source": [
    "def mu(w, a, N):\n",
    "    return -Spi(x(w), 3, N/2) * a/(2*w) -2*a + 2*pi2(w,a) + 3*pi3(w, a) + Spi(x(w), 4, N/2) * pi4(w, a)"
   ]
  },
  {
   "cell_type": "code",
   "execution_count": 23,
   "metadata": {},
   "outputs": [
    {
     "data": {
      "text/plain": [
       "0.3"
      ]
     },
     "execution_count": 23,
     "metadata": {},
     "output_type": "execute_result"
    }
   ],
   "source": [
    "Spi(x(1), 3, 10)/10"
   ]
  },
  {
   "cell_type": "code",
   "execution_count": 24,
   "metadata": {},
   "outputs": [
    {
     "data": {
      "text/plain": [
       "-0.03749999999999999"
      ]
     },
     "execution_count": 24,
     "metadata": {},
     "output_type": "execute_result"
    }
   ],
   "source": [
    "mu(1, 1/10, 20)"
   ]
  },
  {
   "cell_type": "markdown",
   "metadata": {},
   "source": [
    "$$\n",
    "\\operatorname{M_{\\pi}}(x, a, b) = \\frac{x^{b+1} - x^{a}}{x-1}\n",
    "$$"
   ]
  },
  {
   "cell_type": "code",
   "execution_count": 43,
   "metadata": {},
   "outputs": [],
   "source": [
    "def Mpi(x, a, b):\n",
    "    if x == 1:\n",
    "        return b-a+1\n",
    "    return (x**(b-a+1) - 1)/(x-1)"
   ]
  },
  {
   "cell_type": "code",
   "execution_count": 19,
   "metadata": {},
   "outputs": [
    {
     "data": {
      "text/plain": [
       "7.0"
      ]
     },
     "execution_count": 19,
     "metadata": {},
     "output_type": "execute_result"
    }
   ],
   "source": [
    "Mpi(2, 2, 4)"
   ]
  },
  {
   "cell_type": "code",
   "execution_count": 20,
   "metadata": {
    "scrolled": true
   },
   "outputs": [
    {
     "data": {
      "image/png": "[encoded data removed]",
      "text/plain": [
       "<Figure size 432x288 with 1 Axes>"
      ]
     },
     "metadata": {
      "needs_background": "light"
     },
     "output_type": "display_data"
    }
   ],
   "source": [
    "z = np.linspace(0, 1, 100)\n",
    "plt.plot(z, [Mpi(z, 2, 5) for z in z]);"
   ]
  },
  {
   "cell_type": "markdown",
   "metadata": {},
   "source": [
    "$$\n",
    "a = \\dfrac{1}{Mpi(x(w), 3, \\frac{N}{2})\\frac{1}{2w} + 4 + \\cdot \\pi_2(w, 1) + \\cdot \\pi_3(w, 1) + Mpi(x(w), 4, \\frac{N}{2}) \\cdot  \\pi_4(w, 1))}\n",
    "$$"
   ]
  },
  {
   "cell_type": "code",
   "execution_count": 39,
   "metadata": {},
   "outputs": [],
   "source": [
    "def calculateA(w, N): \n",
    "    denominator = Mpi(x(w), 3, N/2)/(2*w) + 4 + pi2(w, 1) + pi3(w, 1) + Mpi(x(w), 4, N/2)*pi4(w, 1)\n",
    "    return 1/(denominator)"
   ]
  },
  {
   "cell_type": "code",
   "execution_count": 44,
   "metadata": {},
   "outputs": [
    {
     "data": {
      "text/plain": [
       "0.5"
      ]
     },
     "execution_count": 44,
     "metadata": {},
     "output_type": "execute_result"
    }
   ],
   "source": [
    "Mpi(x(1), 3, N/2)/(2*1)"
   ]
  },
  {
   "cell_type": "code",
   "execution_count": 45,
   "metadata": {},
   "outputs": [
    {
     "data": {
      "text/plain": [
       "0.17391304347826086"
      ]
     },
     "execution_count": 45,
     "metadata": {},
     "output_type": "execute_result"
    }
   ],
   "source": [
    "calculateA(1.0, 20)"
   ]
  },
  {
   "cell_type": "code",
   "execution_count": 46,
   "metadata": {},
   "outputs": [
    {
     "data": {
      "text/plain": [
       "-0.0652173913043479"
      ]
     },
     "execution_count": 46,
     "metadata": {},
     "output_type": "execute_result"
    }
   ],
   "source": [
    "theA = calculateA(w(1), 20)\n",
    "mu(1, theA, 20)"
   ]
  },
  {
   "cell_type": "code",
   "execution_count": 62,
   "metadata": {},
   "outputs": [
    {
     "data": {
      "image/png": "[encoded data removed]",
      "text/plain": [
       "<Figure size 576x432 with 1 Axes>"
      ]
     },
     "metadata": {
      "needs_background": "light"
     },
     "output_type": "display_data"
    }
   ],
   "source": [
    "from matplotlib import rc\n",
    "rc('text', usetex=True)\n",
    "\n",
    "plt.figure(figsize=(8, 6))\n",
    "\n",
    "N = 20\n",
    "inp = np.linspace(0.5, 0.99, num=1000)\n",
    "outp = [mu(inp, calculateA(w(inp), N), N) for inp in inp]\n",
    "plt.plot(inp, outp, label=\"analytical\");\n",
    "plt.xlabel('$w = \\\\frac{1}{2} + \\\\frac{\\\\omega}{2}$', fontsize=20)\n",
    "plt.ylabel('$\\\\mu$', fontsize=20);\n",
    "\n",
    "df = pd.read_csv('../csv/omegas/N=20/lin-step-tau-1-d-2.csv', sep=',')\n",
    "toDict = df.to_dict('l')\n",
    "taus = toDict['τ']\n",
    "omegas = toDict['omega']\n",
    "mus = toDict['µ']\n",
    "\n",
    "ws = 1/2 + np.array(omegas)/2\n",
    "\n",
    "plt.plot(ws, mus, label=\"simulation\");\n",
    "plt.legend(fontsize=20);"
   ]
  },
  {
   "cell_type": "code",
   "execution_count": 48,
   "metadata": {},
   "outputs": [
    {
     "name": "stdout",
     "output_type": "stream",
     "text": [
      "0.5819119119119119\n"
     ]
    }
   ],
   "source": [
    "# calculate arg max(µ(w))\n",
    "\n",
    "np_outp = np.array(outp)\n",
    "for i in range(1, len(outp)-1):\n",
    "    if outp[i-1] < outp[i] and outp[i] > outp[i+1]:\n",
    "        print(inp[i])"
   ]
  },
  {
   "cell_type": "code",
   "execution_count": 63,
   "metadata": {},
   "outputs": [
    {
     "name": "stdout",
     "output_type": "stream",
     "text": [
      "0.5210910910910911\n"
     ]
    }
   ],
   "source": [
    "# calculate arg min(µ(w))\n",
    "\n",
    "np_outp = np.array(outp)\n",
    "for i in range(1, len(outp)-1):\n",
    "    if outp[i-1] > outp[i] and outp[i] < outp[i+1]:\n",
    "        print(inp[i])"
   ]
  },
  {
   "cell_type": "code",
   "execution_count": 49,
   "metadata": {},
   "outputs": [
    {
     "data": {
      "text/plain": [
       "0.5"
      ]
     },
     "execution_count": 49,
     "metadata": {},
     "output_type": "execute_result"
    }
   ],
   "source": [
    "# calculate Arg max(µ(w))\n",
    "\n",
    "0.5 + (0.99-0.5)/1000*np.where(outp == max(outp))[0][0]"
   ]
  }
 ],
 "metadata": {
  "hide_input": false,
  "kernelspec": {
   "display_name": "Python 3",
   "language": "python",
   "name": "python3"
  },
  "language_info": {
   "codemirror_mode": {
    "name": "ipython",
    "version": 3
   },
   "file_extension": ".py",
   "mimetype": "text/x-python",
   "name": "python",
   "nbconvert_exporter": "python",
   "pygments_lexer": "ipython3",
   "version": "3.6.10"
  },
  "latex_envs": {
   "LaTeX_envs_menu_present": true,
   "autoclose": true,
   "autocomplete": true,
   "bibliofile": "biblio.bib",
   "cite_by": "apalike",
   "current_citInitial": 1,
   "eqLabelWithNumbers": false,
   "eqNumInitial": 1,
   "hotkeys": {
    "equation": "Ctrl-E",
    "itemize": "Ctrl-I"
   },
   "labels_anchors": false,
   "latex_user_defs": false,
   "report_style_numbering": false,
   "user_envs_cfg": false
  }
 },
 "nbformat": 4,
 "nbformat_minor": 2
}
