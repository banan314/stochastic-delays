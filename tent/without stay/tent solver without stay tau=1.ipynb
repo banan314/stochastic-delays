{
 "cells": [
  {
   "cell_type": "code",
   "execution_count": 3,
   "metadata": {},
   "outputs": [],
   "source": [
    "import sys\n",
    "sys.path.append(\"../../\")\n",
    "\n",
    "from fractions import Fraction\n",
    "from delay.matrix.Solver import *\n",
    "from delay.matrix.Path import *\n",
    "from delay.matrix.Matrix import *\n",
    "from delay.matrix.TentSolverWithoutStay import TentSolverWithoutStay as TentSolver\n",
    "import numpy as np\n",
    "import matplotlib.pyplot as plt\n",
    "from matplotlib.ticker import MaxNLocator"
   ]
  },
  {
   "cell_type": "code",
   "execution_count": 5,
   "metadata": {},
   "outputs": [
    {
     "name": "stdout",
     "output_type": "stream",
     "text": [
      "['1/59', '6/59', '15/59', '13/44', '12/59', '6/59', '1/34']\n"
     ]
    },
    {
     "data": {
      "text/plain": [
       "array([0.01687764, 0.10126582, 0.25316456, 0.29535865, 0.20253165,\n",
       "       0.10126582, 0.02953586])"
      ]
     },
     "execution_count": 5,
     "metadata": {},
     "output_type": "execute_result"
    }
   ],
   "source": [
    "solver = TentSolver(N = 6)\n",
    "solver.solve()\n",
    "solver.printFractionStationary()\n",
    "solver.stationary"
   ]
  },
  {
   "cell_type": "code",
   "execution_count": 7,
   "metadata": {},
   "outputs": [],
   "source": [
    "ns = [2, 4, 6, 8, 10, 12, 14, 16, 18, 20]\n",
    "ds = list(map(lambda x: x/2, ns))\n",
    "mus = []\n",
    "for n in ns:\n",
    "    solver = TentSolver(N = n, tau=1)\n",
    "    solver.solve()\n",
    "    mus.append(solver.calculateMean())"
   ]
  },
  {
   "cell_type": "code",
   "execution_count": 8,
   "metadata": {},
   "outputs": [
    {
     "data": {
      "image/png": "[encoded data removed]",
      "text/plain": [
       "<Figure size 432x288 with 1 Axes>"
      ]
     },
     "metadata": {
      "needs_background": "light"
     },
     "output_type": "display_data"
    }
   ],
   "source": [
    "f = len(ns)\n",
    "plt.xlabel('d', fontsize=24)\n",
    "plt.ylabel('µ', fontsize=24)\n",
    "plt.title('µ(d)')\n",
    "plt.plot(ds[0:f], mus[0:f], linestyle='--', marker='o')\n",
    "plt.savefig('../../../draft/img/tent-without/mu_of_N_tau1')"
   ]
  }
 ],
 "metadata": {
  "hide_input": false,
  "kernelspec": {
   "display_name": "Python 3",
   "language": "python",
   "name": "python3"
  },
  "language_info": {
   "codemirror_mode": {
    "name": "ipython",
    "version": 3
   },
   "file_extension": ".py",
   "mimetype": "text/x-python",
   "name": "python",
   "nbconvert_exporter": "python",
   "pygments_lexer": "ipython3",
   "version": "3.6.10"
  },
  "latex_envs": {
   "LaTeX_envs_menu_present": true,
   "autoclose": true,
   "autocomplete": true,
   "bibliofile": "biblio.bib",
   "cite_by": "apalike",
   "current_citInitial": 1,
   "eqLabelWithNumbers": false,
   "eqNumInitial": 1,
   "hotkeys": {
    "equation": "Ctrl-E",
    "itemize": "Ctrl-I"
   },
   "labels_anchors": false,
   "latex_user_defs": false,
   "report_style_numbering": false,
   "user_envs_cfg": false
  }
 },
 "nbformat": 4,
 "nbformat_minor": 2
}
