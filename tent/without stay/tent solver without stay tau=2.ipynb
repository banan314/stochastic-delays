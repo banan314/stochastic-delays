{
 "cells": [
  {
   "cell_type": "code",
   "execution_count": 1,
   "metadata": {},
   "outputs": [],
   "source": [
    "import sys\n",
    "sys.path.append(\"../../\")\n",
    "\n",
    "from fractions import Fraction\n",
    "from delay.matrix.Solver import *\n",
    "from delay.matrix.Path import *\n",
    "from delay.matrix.Matrix import *\n",
    "from delay.matrix.TentSolverWithoutStay import TentSolverWithoutStay as TentSolver\n",
    "import numpy as np\n",
    "import matplotlib.pyplot as plt\n",
    "from matplotlib.ticker import MaxNLocator"
   ]
  },
  {
   "cell_type": "code",
   "execution_count": 2,
   "metadata": {},
   "outputs": [
    {
     "name": "stdout",
     "output_type": "stream",
     "text": [
      "['11/567', '71/610', '115/456', '115/418', '47/254', '15/154', '15/359', '4/361', '1/632']\n"
     ]
    },
    {
     "data": {
      "text/plain": [
       "array([0.01939948, 0.11639685, 0.25219318, 0.27511983, 0.18504115,\n",
       "       0.09740436, 0.04178349, 0.01107895, 0.00158271])"
      ]
     },
     "execution_count": 2,
     "metadata": {},
     "output_type": "execute_result"
    }
   ],
   "source": [
    "solver = TentSolver(N = 6, tau=2)\n",
    "solver.solve()\n",
    "solver.printFractionStationary()\n",
    "solver.stationary"
   ]
  },
  {
   "cell_type": "code",
   "execution_count": 3,
   "metadata": {},
   "outputs": [],
   "source": [
    "ns = [2, 4, 6, 8, 10, 12, 14, 16, 18, 20]\n",
    "ds = list(map(lambda x: x/2, ns))\n",
    "mus = []\n",
    "for n in ns:\n",
    "    solver = TentSolver(N = n, tau=2)\n",
    "    solver.solve()\n",
    "    mus.append(solver.calculateMean())"
   ]
  },
  {
   "cell_type": "code",
   "execution_count": 4,
   "metadata": {},
   "outputs": [
    {
     "data": {
      "image/png": "[encoded data removed]",
      "text/plain": [
       "<Figure size 432x288 with 1 Axes>"
      ]
     },
     "metadata": {
      "needs_background": "light"
     },
     "output_type": "display_data"
    }
   ],
   "source": [
    "f = len(ns)\n",
    "plt.xlabel('d', fontsize=24)\n",
    "plt.ylabel('µ', fontsize=24)\n",
    "plt.title('µ(d)')\n",
    "plt.plot(ds[0:f], mus[0:f], linestyle='--', marker='o')\n",
    "plt.savefig('../../../draft/img/tent-without/mu_of_N_tau2')"
   ]
  },
  {
   "cell_type": "code",
   "execution_count": 5,
   "metadata": {},
   "outputs": [
    {
     "data": {
      "text/plain": [
       "[0.0789473684210526,\n",
       " 0.047945205479452024,\n",
       " 0.014244370082300698,\n",
       " 0.0040815716293395015,\n",
       " 0.0011487446365841022,\n",
       " 0.0003192040226255141,\n",
       " 8.779945010138512e-05,\n",
       " 2.39475337256797e-05,\n",
       " 6.485659297586101e-06,\n",
       " 1.7459253442373587e-06]"
      ]
     },
     "execution_count": 5,
     "metadata": {},
     "output_type": "execute_result"
    }
   ],
   "source": [
    "mus"
   ]
  }
 ],
 "metadata": {
  "hide_input": false,
  "kernelspec": {
   "display_name": "Python 3",
   "language": "python",
   "name": "python3"
  },
  "language_info": {
   "codemirror_mode": {
    "name": "ipython",
    "version": 3
   },
   "file_extension": ".py",
   "mimetype": "text/x-python",
   "name": "python",
   "nbconvert_exporter": "python",
   "pygments_lexer": "ipython3",
   "version": "3.6.10"
  },
  "latex_envs": {
   "LaTeX_envs_menu_present": true,
   "autoclose": true,
   "autocomplete": true,
   "bibliofile": "biblio.bib",
   "cite_by": "apalike",
   "current_citInitial": 1,
   "eqLabelWithNumbers": false,
   "eqNumInitial": 1,
   "hotkeys": {
    "equation": "Ctrl-E",
    "itemize": "Ctrl-I"
   },
   "labels_anchors": false,
   "latex_user_defs": false,
   "report_style_numbering": false,
   "user_envs_cfg": false
  }
 },
 "nbformat": 4,
 "nbformat_minor": 2
}
