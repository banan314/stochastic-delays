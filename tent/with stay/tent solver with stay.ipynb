{
 "cells": [
  {
   "cell_type": "code",
   "execution_count": 1,
   "metadata": {},
   "outputs": [],
   "source": [
    "import sys\n",
    "sys.path.append(\"../\")\n",
    "\n",
    "from fractions import Fraction\n",
    "from delay.matrix.Solver import *\n",
    "from delay.matrix.Path import *\n",
    "from delay.matrix.Matrix import *\n",
    "from delay.matrix.TentSolver import *\n",
    "import numpy as np\n",
    "import matplotlib.pyplot as plt\n",
    "from matplotlib.ticker import MaxNLocator"
   ]
  },
  {
   "cell_type": "code",
   "execution_count": 5,
   "metadata": {},
   "outputs": [
    {
     "name": "stdout",
     "output_type": "stream",
     "text": [
      "['1/59', '6/59', '15/59', '13/44', '12/59', '6/59', '1/34']\n"
     ]
    },
    {
     "data": {
      "text/plain": [
       "array([0.01687764, 0.10126582, 0.25316456, 0.29535865, 0.20253165,\n",
       "       0.10126582, 0.02953586])"
      ]
     },
     "execution_count": 5,
     "metadata": {},
     "output_type": "execute_result"
    }
   ],
   "source": [
    "solver = TentSolver(N = 6)\n",
    "solver.solve()\n",
    "solver.printFractionStationary()\n",
    "solver.stationary"
   ]
  },
  {
   "cell_type": "code",
   "execution_count": 2,
   "metadata": {},
   "outputs": [
    {
     "data": {
      "image/png": "[encoded data removed]",
      "text/plain": [
       "<Figure size 432x288 with 1 Axes>"
      ]
     },
     "metadata": {
      "needs_background": "light"
     },
     "output_type": "display_data"
    }
   ],
   "source": [
    "ns = [2, 4, 6, 8, 10, 12, 14]\n",
    "mus = [-1/13, -2/57, -3/237, -12/2899, -5/3909, -6/15753, -0.000110]\n",
    "assert len(ns) == len(mus)\n",
    "f = len(ns)\n",
    "plt.xlabel('N', fontsize=24)\n",
    "plt.ylabel('µ', fontsize=24)\n",
    "plt.title('µ(N)')\n",
    "plt.plot(ns[0:f], mus[0:f], linestyle='--', marker='o')\n",
    "plt.savefig('µ(N) tent solver')"
   ]
  }
 ],
 "metadata": {
  "hide_input": false,
  "kernelspec": {
   "display_name": "Python 3",
   "language": "python",
   "name": "python3"
  },
  "language_info": {
   "codemirror_mode": {
    "name": "ipython",
    "version": 3
   },
   "file_extension": ".py",
   "mimetype": "text/x-python",
   "name": "python",
   "nbconvert_exporter": "python",
   "pygments_lexer": "ipython3",
   "version": "3.6.10"
  },
  "latex_envs": {
   "LaTeX_envs_menu_present": true,
   "autoclose": true,
   "autocomplete": true,
   "bibliofile": "biblio.bib",
   "cite_by": "apalike",
   "current_citInitial": 1,
   "eqLabelWithNumbers": false,
   "eqNumInitial": 1,
   "hotkeys": {
    "equation": "Ctrl-E",
    "itemize": "Ctrl-I"
   },
   "labels_anchors": false,
   "latex_user_defs": false,
   "report_style_numbering": false,
   "user_envs_cfg": false
  }
 },
 "nbformat": 4,
 "nbformat_minor": 2
}
