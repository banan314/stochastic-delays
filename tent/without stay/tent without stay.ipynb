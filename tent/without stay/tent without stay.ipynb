{
 "cells": [
  {
   "cell_type": "code",
   "execution_count": 1,
   "metadata": {},
   "outputs": [],
   "source": [
    "import sys\n",
    "sys.path.append(\"../../\")"
   ]
  },
  {
   "cell_type": "code",
   "execution_count": 2,
   "metadata": {},
   "outputs": [],
   "source": [
    "import matplotlib.pyplot as plt\n",
    "import random\n",
    "import numpy as np\n",
    "import math \n",
    "from delay.sequencefinder import find"
   ]
  },
  {
   "cell_type": "code",
   "execution_count": 3,
   "metadata": {},
   "outputs": [],
   "source": [
    "def calculateProbability(fA, fB, omega, d):\n",
    "    return max(0, min(1, 0.5 + omega*(fA - fB)/(2*d)))"
   ]
  },
  {
   "cell_type": "code",
   "execution_count": 4,
   "metadata": {},
   "outputs": [],
   "source": [
    "def fA(x, d):\n",
    "    if x <= 0:\n",
    "        return d\n",
    "    if x < d:\n",
    "        return d-x\n",
    "    return 0\n",
    "\n",
    "def fB(x, d):\n",
    "    if x <= -d:\n",
    "        return 0\n",
    "    if x < 0:\n",
    "        return d+x\n",
    "    return d\n",
    "\n",
    "def simulate():\n",
    "    def nextElem(func):\n",
    "        term = -N/2 if func == max else N/2\n",
    "        rc = 1\n",
    "        value = -rc if func == max else rc\n",
    "        return func(x[current] + value, term)\n",
    "    \n",
    "    current = len(x)-1\n",
    "    for _ in range(0, duration):\n",
    "        previousA, previousB = fA(x[current - tauA], d), fB(x[current - tauB], d)\n",
    "        \n",
    "        prob = calculateProbability(previousA, previousB, 1, d)\n",
    "        r = random.random()\n",
    "        if r <= prob:\n",
    "            nextElement = nextElem(min) # +1\n",
    "        else:\n",
    "            nextElement = nextElem(max) # -1\n",
    "                \n",
    "        x.append(nextElement)\n",
    "        current += 1"
   ]
  },
  {
   "cell_type": "code",
   "execution_count": 5,
   "metadata": {},
   "outputs": [
    {
     "data": {
      "image/png": "[encoded data removed]",
      "text/plain": [
       "<Figure size 460.8x345.6 with 1 Axes>"
      ]
     },
     "metadata": {
      "needs_background": "light"
     },
     "output_type": "display_data"
    }
   ],
   "source": [
    "vfA = np.vectorize(fA)\n",
    "vfB = np.vectorize(fB)\n",
    "\n",
    "N = 100\n",
    "plt.figure(figsize=(6.4, 4.8))\n",
    "x = np.linspace(-N/2, N/2, num=100)\n",
    "\n",
    "yA = vfA(x, 30)\n",
    "yB = vfB(x, 30)\n",
    "\n",
    "\n",
    "plt.plot(x, yA, label=r'$f_A(x)$')\n",
    "plt.plot(x, yB, label=r'$f_B(x)$')\n",
    "plt.rc('text', usetex=True)\n",
    "plt.rcParams.update({'font.size': 20})\n",
    "\n",
    "plt.legend()\n",
    "plt.show()\n"
   ]
  },
  {
   "cell_type": "code",
   "execution_count": 6,
   "metadata": {
    "deletable": false,
    "editable": false,
    "run_control": {
     "frozen": true
    }
   },
   "outputs": [
    {
     "name": "stdout",
     "output_type": "stream",
     "text": [
      "|   | -2 | -1 | 0 | 1 | 2 | 3 |\n",
      "|---|---|---|---|---|---|\n",
      "| **-2** | x | 1.00 | x| x| x| x|\n",
      "| **-1**  | 0.75 | x | 0.75 | x| x| x|\n",
      "| **0** | x | 0.50 | x | 0.25 | x| x|\n",
      "| **1** | x| x | 0.50 | x | 0.00 | x|\n",
      "| **2** | x| x| x | 0.25 | x | 0.00 |\n",
      "| **3** | x| x| x| x | 0.00 | x|\n"
     ]
    }
   ],
   "source": [
    "print('|   ', end='')\n",
    "for j in range(-2, 4):\n",
    "    print('| %d ' % j, end='')\n",
    "print('|\\n' + '|---' * 6 + '|')\n",
    "for j in range(-2, 4):\n",
    "    print('| **%d** ' % j, end = '')\n",
    "    for i in range(-2, 4):\n",
    "        if abs(i-j) > 1 or i == j: \n",
    "            print('| x', end='')\n",
    "            continue\n",
    "        print(' | %.2f ' % calculateProbability(fA(i, 2), fB(j, 2), 1, 2), end='')\n",
    "        # print(' | %d ' % (fA(i, 2) - fB(j, 2)), end='')\n",
    "    print('|')"
   ]
  },
  {
   "cell_type": "code",
   "execution_count": 68,
   "metadata": {
    "deletable": false,
    "editable": false,
    "run_control": {
     "frozen": true
    }
   },
   "outputs": [
    {
     "name": "stdout",
     "output_type": "stream",
     "text": [
      "µ =  0.0176395360081009\n"
     ]
    },
    {
     "data": {
      "image/png": "[encoded data removed]",
      "text/plain": [
       "<Figure size 432x288 with 1 Axes>"
      ]
     },
     "metadata": {
      "needs_background": "light"
     },
     "output_type": "display_data"
    }
   ],
   "source": [
    "N = 100\n",
    "tauA = 1\n",
    "tauB = 0\n",
    "d = 2\n",
    "x = [0] * max(tauA, tauB) + [1]\n",
    "duration = 10000000\n",
    "conv = 100\n",
    "\n",
    "simulate()\n",
    "            \n",
    "plt.hist(x[8*N:], bins=np.linspace(-N/2, N/2, N+1))\n",
    "print('µ = ', np.mean(x[100*conv:]))"
   ]
  },
  {
   "cell_type": "code",
   "execution_count": 6,
   "metadata": {
    "scrolled": true
   },
   "outputs": [
    {
     "name": "stdout",
     "output_type": "stream",
     "text": [
      "µ =  0.04879077613890606\n"
     ]
    }
   ],
   "source": [
    "N = 100\n",
    "tauA = 2\n",
    "tauB = 0\n",
    "d = 2\n",
    "x = [0] * max(tauA, tauB) + [1]\n",
    "duration = 10000000\n",
    "conv = 100\n",
    "\n",
    "simulate()\n",
    "\n",
    "print('µ = ', np.mean(x[100*conv:]))"
   ]
  },
  {
   "cell_type": "markdown",
   "metadata": {},
   "source": [
    "8/175 = 0.04571428571428571"
   ]
  },
  {
   "cell_type": "code",
   "execution_count": 11,
   "metadata": {},
   "outputs": [
    {
     "data": {
      "text/plain": [
       "(array([ 912557, 2739371, 3104679, 1917747,  914217,  342883,   68549]),\n",
       " array([-2.5, -1.5, -0.5,  0.5,  1.5,  2.5,  3.5,  4.5]))"
      ]
     },
     "execution_count": 11,
     "metadata": {},
     "output_type": "execute_result"
    }
   ],
   "source": [
    "np.histogram(x, [-2.5, -1.5, -0.5, 0.5, 1.5, 2.5, 3.5, 4.5])"
   ]
  },
  {
   "cell_type": "code",
   "execution_count": 31,
   "metadata": {},
   "outputs": [
    {
     "data": {
      "text/plain": [
       "(array([ 912910, 2739154, 3105374, 1918809,  913479,  342038,   68239]),\n",
       " array([-2.5, -1.5, -0.5,  0.5,  1.5,  2.5,  3.5,  4.5]))"
      ]
     },
     "execution_count": 31,
     "metadata": {},
     "output_type": "execute_result"
    }
   ],
   "source": [
    "np.histogram(x, [-2.5, -1.5, -0.5, 0.5, 1.5, 2.5, 3.5, 4.5])"
   ]
  },
  {
   "cell_type": "code",
   "execution_count": 12,
   "metadata": {},
   "outputs": [
    {
     "data": {
      "text/plain": [
       "array([0.0912557, 0.2739371, 0.3104679, 0.1917747, 0.0914217, 0.0342883,\n",
       "       0.0068549])"
      ]
     },
     "execution_count": 12,
     "metadata": {},
     "output_type": "execute_result"
    }
   ],
   "source": [
    "np.array([ 912557, 2739371, 3104679, 1917747,  914217,  342883,   68549]) / 10000000"
   ]
  },
  {
   "cell_type": "code",
   "execution_count": 10,
   "metadata": {},
   "outputs": [],
   "source": [
    "pi_2   = find(x, [-2])\n",
    "pi_1_P = find(x, [-1, -2, -1])\n",
    "pi_1P_ = find(x, [-1, 0, -1])\n",
    "pi_1__ = find(x, [1, 0, -1])"
   ]
  },
  {
   "cell_type": "code",
   "execution_count": 9,
   "metadata": {},
   "outputs": [
    {
     "name": "stdout",
     "output_type": "stream",
     "text": [
      "911804  =  913227.25\n"
     ]
    }
   ],
   "source": [
    "print(pi_2, ' = ', pi_1_P/4 + pi_1P_/4 + pi_1__/2)"
   ]
  },
  {
   "cell_type": "code",
   "execution_count": 12,
   "metadata": {},
   "outputs": [
    {
     "data": {
      "text/plain": [
       "911804"
      ]
     },
     "execution_count": 12,
     "metadata": {},
     "output_type": "execute_result"
    }
   ],
   "source": [
    "pi_1_P"
   ]
  },
  {
   "cell_type": "code",
   "execution_count": 13,
   "metadata": {},
   "outputs": [
    {
     "data": {
      "text/plain": [
       "913419"
      ]
     },
     "execution_count": 13,
     "metadata": {},
     "output_type": "execute_result"
    }
   ],
   "source": [
    "pi_1P_"
   ]
  },
  {
   "cell_type": "code",
   "execution_count": 11,
   "metadata": {},
   "outputs": [
    {
     "data": {
      "text/plain": [
       "913843"
      ]
     },
     "execution_count": 11,
     "metadata": {},
     "output_type": "execute_result"
    }
   ],
   "source": [
    "pi_1__"
   ]
  },
  {
   "cell_type": "code",
   "execution_count": 9,
   "metadata": {},
   "outputs": [
    {
     "name": "stdout",
     "output_type": "stream",
     "text": [
      "µ =  0.07920938562280712\n"
     ]
    }
   ],
   "source": [
    "N = 100\n",
    "tauA = 2\n",
    "tauB = 0\n",
    "d = 1\n",
    "x = [0] * max(tauA, tauB) + [1]\n",
    "duration = 10000000\n",
    "conv = 100\n",
    "\n",
    "simulate()\n",
    "\n",
    "print('µ = ', np.mean(x[100*conv:]))"
   ]
  },
  {
   "cell_type": "code",
   "execution_count": 10,
   "metadata": {},
   "outputs": [
    {
     "data": {
      "text/plain": [
       "array([0.0526219, 0.2630526, 0.3684186, 0.2106258, 0.0789597, 0.0263217])"
      ]
     },
     "execution_count": 10,
     "metadata": {},
     "output_type": "execute_result"
    }
   ],
   "source": [
    "np.histogram(x, [-2.5, -1.5, -0.5, 0.5, 1.5, 2.5, 3.5])[0] / 10000000"
   ]
  },
  {
   "cell_type": "code",
   "execution_count": 6,
   "metadata": {
    "scrolled": true
   },
   "outputs": [
    {
     "name": "stdout",
     "output_type": "stream",
     "text": [
      "µ =  0.04879077613890606\n"
     ]
    }
   ],
   "source": [
    "N = 100\n",
    "tauA = 2\n",
    "tauB = 0\n",
    "d = 2\n",
    "x = [0] * max(tauA, tauB) + [1]\n",
    "duration = 10000000\n",
    "conv = 100\n",
    "\n",
    "simulate()\n",
    "\n",
    "print('µ = ', np.mean(x[100*conv:]))"
   ]
  },
  {
   "cell_type": "code",
   "execution_count": 45,
   "metadata": {},
   "outputs": [
    {
     "name": "stdout",
     "output_type": "stream",
     "text": [
      "µ =  0.015855250493918772\n"
     ]
    }
   ],
   "source": [
    "N = 100\n",
    "tauA = 2\n",
    "tauB = 0\n",
    "d = 3\n",
    "x = [0] * max(tauA, tauB) + [1]\n",
    "duration = 10000000\n",
    "conv = 100\n",
    "\n",
    "simulate()\n",
    "\n",
    "print('µ = ', np.mean(x[100*conv:]))"
   ]
  },
  {
   "cell_type": "code",
   "execution_count": 46,
   "metadata": {},
   "outputs": [
    {
     "name": "stdout",
     "output_type": "stream",
     "text": [
      "µ =  0.0045915902127356715\n"
     ]
    }
   ],
   "source": [
    "N = 100\n",
    "tauA = 2\n",
    "tauB = 0\n",
    "d = 4\n",
    "x = [0] * max(tauA, tauB) + [1]\n",
    "duration = 10000000\n",
    "conv = 100\n",
    "\n",
    "simulate()\n",
    "\n",
    "print('µ = ', np.mean(x[100*conv:]))"
   ]
  },
  {
   "cell_type": "code",
   "execution_count": 47,
   "metadata": {},
   "outputs": [
    {
     "name": "stdout",
     "output_type": "stream",
     "text": [
      "µ =  0.0010776773540508446\n"
     ]
    }
   ],
   "source": [
    "N = 100\n",
    "tauA = 2\n",
    "tauB = 0\n",
    "d = 5\n",
    "x = [0] * max(tauA, tauB) + [1]\n",
    "duration = 10000000\n",
    "conv = 100\n",
    "\n",
    "simulate()\n",
    "\n",
    "print('µ = ', np.mean(x[100*conv:]))"
   ]
  },
  {
   "cell_type": "code",
   "execution_count": 48,
   "metadata": {},
   "outputs": [
    {
     "name": "stdout",
     "output_type": "stream",
     "text": [
      "µ =  0.0014360356047941126\n"
     ]
    }
   ],
   "source": [
    "N = 100\n",
    "tauA = 2\n",
    "tauB = 0\n",
    "d = 6\n",
    "x = [0] * max(tauA, tauB) + [1]\n",
    "duration = 10000000\n",
    "conv = 100\n",
    "\n",
    "simulate()\n",
    "\n",
    "print('µ = ', np.mean(x[100*conv:]))"
   ]
  },
  {
   "cell_type": "code",
   "execution_count": 49,
   "metadata": {},
   "outputs": [
    {
     "name": "stdout",
     "output_type": "stream",
     "text": [
      "µ =  -0.0030996987688592286\n"
     ]
    }
   ],
   "source": [
    "N = 100\n",
    "tauA = 2\n",
    "tauB = 0\n",
    "d = 7\n",
    "x = [0] * max(tauA, tauB) + [1]\n",
    "duration = 10000000\n",
    "conv = 100\n",
    "\n",
    "simulate()\n",
    "\n",
    "print('µ = ', np.mean(x[100*conv:]))"
   ]
  },
  {
   "cell_type": "code",
   "execution_count": 50,
   "metadata": {},
   "outputs": [
    {
     "name": "stdout",
     "output_type": "stream",
     "text": [
      "µ =  0.0011175171819267722\n"
     ]
    }
   ],
   "source": [
    "N = 100\n",
    "tauA = 2\n",
    "tauB = 0\n",
    "d = 8\n",
    "x = [0] * max(tauA, tauB) + [1]\n",
    "duration = 10000000\n",
    "conv = 100\n",
    "\n",
    "simulate()\n",
    "\n",
    "print('µ = ', np.mean(x[100*conv:]))"
   ]
  },
  {
   "cell_type": "code",
   "execution_count": 51,
   "metadata": {
    "scrolled": true,
    "pycharm": {
     "name": "#%%\n"
    }
   },
   "outputs": [
    {
     "name": "stdout",
     "output_type": "stream",
     "text": [
      "µ =  0.0011259255878101337\n"
     ]
    }
   ],
   "source": [
    "N = 100\n",
    "tauA = 2\n",
    "tauB = 0\n",
    "d = 9\n",
    "x = [0] * max(tauA, tauB) + [1]\n",
    "duration = 10000000\n",
    "conv = 100\n",
    "\n",
    "simulate()\n",
    "\n",
    "print('µ = ', np.mean(x[100*conv:]))"
   ]
  }
 ],
 "metadata": {
  "hide_input": false,
  "kernelspec": {
   "display_name": "Python 3",
   "language": "python",
   "name": "python3"
  },
  "language_info": {
   "codemirror_mode": {
    "name": "ipython",
    "version": 3
   },
   "file_extension": ".py",
   "mimetype": "text/x-python",
   "name": "python",
   "nbconvert_exporter": "python",
   "pygments_lexer": "ipython3",
   "version": "3.6.10"
  },
  "latex_envs": {
   "LaTeX_envs_menu_present": true,
   "autoclose": true,
   "autocomplete": true,
   "bibliofile": "biblio.bib",
   "cite_by": "apalike",
   "current_citInitial": 1,
   "eqLabelWithNumbers": false,
   "eqNumInitial": 1,
   "hotkeys": {
    "equation": "Ctrl-E",
    "itemize": "Ctrl-I"
   },
   "labels_anchors": false,
   "latex_user_defs": false,
   "report_style_numbering": false,
   "user_envs_cfg": false
  }
 },
 "nbformat": 4,
 "nbformat_minor": 2
}