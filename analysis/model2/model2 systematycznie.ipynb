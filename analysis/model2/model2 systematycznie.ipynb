{
 "cells": [
  {
   "cell_type": "code",
   "execution_count": 1,
   "metadata": {},
   "outputs": [],
   "source": [
    "import sys\n",
    "sys.path.append(\"../\")"
   ]
  },
  {
   "cell_type": "code",
   "execution_count": 8,
   "metadata": {},
   "outputs": [],
   "source": [
    "from scipy import special\n",
    "import numpy as np\n",
    "from collections import deque\n",
    "import matplotlib.pyplot as plt\n",
    "from delay.delay import *\n",
    "import delay.model as model\n",
    "\n",
    "import delay.calculator as calc\n",
    "from delay.strategy import fA_HardInterval, fB_HardInterval, showIntervalFunctions\n",
    "from delay.simulation import Simulation, FunctionType\n",
    "from delay.value import calculateValue\n",
    "\n",
    "import pandas as pd"
   ]
  },
  {
   "cell_type": "code",
   "execution_count": 3,
   "metadata": {},
   "outputs": [],
   "source": [
    "N=100"
   ]
  },
  {
   "cell_type": "code",
   "execution_count": 4,
   "metadata": {},
   "outputs": [],
   "source": [
    "def printNice(h, digits=5):\n",
    "    h = [round(x, ndigits=digits) for x in h]\n",
    "    N = int(len(h))-1\n",
    "    for i in range(int(len(h)/10)):\n",
    "        print(int(i*10-N/2), ': ', h[slice(i*10, (i+1)*10)])"
   ]
  },
  {
   "cell_type": "code",
   "execution_count": 5,
   "metadata": {},
   "outputs": [],
   "source": [
    "r = model.initialRightProbabilities(100, 20, 0.01)\n",
    "for _ in range(10):\n",
    "    stationary = model.probabilities2Stationary(r)\n",
    "    for __ in range(5):\n",
    "        r = model.rightProbabilitiesWithSampling(stationary, r, epsilon=0.01, d=20, tau=20, sampleNumber=10)"
   ]
  },
  {
   "cell_type": "code",
   "execution_count": 6,
   "metadata": {},
   "outputs": [
    {
     "data": {
      "text/plain": [
       "-9.844866606624379"
      ]
     },
     "execution_count": 6,
     "metadata": {},
     "output_type": "execute_result"
    }
   ],
   "source": [
    "st = model.probabilities2Stationary(r)\n",
    "model.expectedValue(st)"
   ]
  },
  {
   "cell_type": "code",
   "execution_count": 12,
   "metadata": {},
   "outputs": [
    {
     "name": "stdout",
     "output_type": "stream",
     "text": [
      "..................................."
     ]
    }
   ],
   "source": [
    "ds, mus, taus = [], [], []\n",
    "tau=20\n",
    "steps = 35\n",
    "for i in range(0, steps):\n",
    "    d = i*2\n",
    "    r = model.initialRightProbabilities(N, d, 0.01)\n",
    "    for _ in range(10):\n",
    "        stationary = model.probabilities2Stationary(r)\n",
    "        for __ in range(5):\n",
    "            r = model.rightProbabilitiesWithSampling(stationary, r, epsilon=0.01, d=d, tau=tau, sampleNumber=10)\n",
    "    st = model.probabilities2Stationary(r)\n",
    "    mu = model.expectedValue(st)\n",
    "    ds.append(d)\n",
    "    mus.append(mu)\n",
    "    print('.', end='')\n",
    "data = {'d': ds, 'τ': [tau]*steps, 'µ': mus}\n",
    "df = pd.DataFrame(data = data)\n",
    "df.to_csv('model-tau-20-sample-10.csv')"
   ]
  },
  {
   "cell_type": "code",
   "execution_count": 19,
   "metadata": {},
   "outputs": [
    {
     "data": {
      "text/plain": [
       "[<matplotlib.lines.Line2D at 0x7f34395b0518>]"
      ]
     },
     "execution_count": 19,
     "metadata": {},
     "output_type": "execute_result"
    },
    {
     "data": {
      "image/png": "[encoded data removed]",
      "text/plain": [
       "<Figure size 432x288 with 1 Axes>"
      ]
     },
     "metadata": {
      "needs_background": "light"
     },
     "output_type": "display_data"
    }
   ],
   "source": [
    "df = pd.read_csv('model-tau-20.csv', sep=',')\n",
    "mus = df.to_dict('l')['µ']\n",
    "mus\n",
    "plt.plot(mus)"
   ]
  },
  {
   "cell_type": "code",
   "execution_count": 28,
   "metadata": {},
   "outputs": [
    {
     "name": "stdout",
     "output_type": "stream",
     "text": [
      "..................................."
     ]
    }
   ],
   "source": [
    "ds, mus, taus = [], [], []\n",
    "tau=20\n",
    "steps = 35\n",
    "for i in range(0, steps):\n",
    "    d = i*2\n",
    "    r = model.initialRightProbabilities(N, d, 0.01)\n",
    "    for _ in range(10):\n",
    "        stationary = model.probabilities2Stationary(r)\n",
    "        for __ in range(5):\n",
    "            r = model.rightProbabilitiesWithSampling(stationary, r, epsilon=0.01, d=d, tau=tau, sampleNumber=5)\n",
    "    st = model.probabilities2Stationary(r)\n",
    "    mu = model.expectedValue(st)\n",
    "    ds.append(d)\n",
    "    mus.append(mu)\n",
    "    print('.', end='')\n",
    "data = {'d': ds, 'τ': [tau]*steps, 'µ': mus}\n",
    "df = pd.DataFrame(data = data)\n",
    "df.to_csv('model-tau-20-sample-5.csv')"
   ]
  },
  {
   "cell_type": "code",
   "execution_count": 22,
   "metadata": {},
   "outputs": [
    {
     "data": {
      "text/plain": [
       "[<matplotlib.lines.Line2D at 0x7f3439540cf8>]"
      ]
     },
     "execution_count": 22,
     "metadata": {},
     "output_type": "execute_result"
    },
    {
     "data": {
      "image/png": "[encoded data removed]",
      "text/plain": [
       "<Figure size 432x288 with 1 Axes>"
      ]
     },
     "metadata": {
      "needs_background": "light"
     },
     "output_type": "display_data"
    }
   ],
   "source": [
    "df = pd.read_csv('model-tau-20-sample-5.csv', sep=',')\n",
    "mus = df.to_dict('l')['µ']\n",
    "plt.plot(mus)"
   ]
  },
  {
   "cell_type": "code",
   "execution_count": 21,
   "metadata": {},
   "outputs": [
    {
     "name": "stdout",
     "output_type": "stream",
     "text": [
      "..................................."
     ]
    }
   ],
   "source": [
    "ds, mus, taus = [], [], []\n",
    "tau=20\n",
    "steps = 35\n",
    "for i in range(0, steps):\n",
    "    d = i*2\n",
    "    r = model.initialRightProbabilities(N, d, 0.01)\n",
    "    for _ in range(10):\n",
    "        stationary = model.probabilities2Stationary(r)\n",
    "        for __ in range(5):\n",
    "            r = model.rightProbabilitiesWithSampling(stationary, r, epsilon=0.01, d=d, tau=tau, sampleNumber=15)\n",
    "    st = model.probabilities2Stationary(r)\n",
    "    mu = model.expectedValue(st)\n",
    "    ds.append(d)\n",
    "    mus.append(mu)\n",
    "    print('.', end='')\n",
    "data = {'d': ds, 'τ': [tau]*steps, 'µ': mus}\n",
    "df = pd.DataFrame(data = data)\n",
    "df.to_csv('model-tau-20-sample-15.csv')"
   ]
  },
  {
   "cell_type": "code",
   "execution_count": 24,
   "metadata": {},
   "outputs": [
    {
     "data": {
      "text/plain": [
       "[<matplotlib.lines.Line2D at 0x7f3439474c88>]"
      ]
     },
     "execution_count": 24,
     "metadata": {},
     "output_type": "execute_result"
    },
    {
     "data": {
      "image/png": "[encoded data removed]",
      "text/plain": [
       "<Figure size 432x288 with 1 Axes>"
      ]
     },
     "metadata": {
      "needs_background": "light"
     },
     "output_type": "display_data"
    }
   ],
   "source": [
    "df = pd.read_csv('model-tau-20-sample-15.csv', sep=',')\n",
    "mus = df.to_dict('l')['µ']\n",
    "plt.plot(mus)"
   ]
  },
  {
   "cell_type": "code",
   "execution_count": 25,
   "metadata": {},
   "outputs": [
    {
     "name": "stdout",
     "output_type": "stream",
     "text": [
      "..................................."
     ]
    }
   ],
   "source": [
    "ds, mus, taus = [], [], []\n",
    "tau=20\n",
    "steps = 35\n",
    "for i in range(0, steps):\n",
    "    d = i*2\n",
    "    r = model.initialRightProbabilities(N, d, 0.01)\n",
    "    for _ in range(10):\n",
    "        stationary = model.probabilities2Stationary(r)\n",
    "        for __ in range(5):\n",
    "            r = model.rightProbabilitiesWithSampling(stationary, r, epsilon=0.01, d=d, tau=tau, sampleNumber=50)\n",
    "    st = model.probabilities2Stationary(r)\n",
    "    mu = model.expectedValue(st)\n",
    "    ds.append(d)\n",
    "    mus.append(mu)\n",
    "    print('.', end='')\n",
    "data = {'d': ds, 'τ': [tau]*steps, 'µ': mus}\n",
    "df = pd.DataFrame(data = data)\n",
    "df.to_csv('model-tau-20-sample-50.csv')"
   ]
  },
  {
   "cell_type": "code",
   "execution_count": 26,
   "metadata": {},
   "outputs": [
    {
     "data": {
      "text/plain": [
       "[<matplotlib.lines.Line2D at 0x7f343945b3c8>]"
      ]
     },
     "execution_count": 26,
     "metadata": {},
     "output_type": "execute_result"
    },
    {
     "data": {
      "image/png": "[encoded data removed]",
      "text/plain": [
       "<Figure size 432x288 with 1 Axes>"
      ]
     },
     "metadata": {
      "needs_background": "light"
     },
     "output_type": "display_data"
    }
   ],
   "source": [
    "df = pd.read_csv('model-tau-20-sample-50.csv', sep=',')\n",
    "mus = df.to_dict('l')['µ']\n",
    "plt.plot(mus)"
   ]
  },
  {
   "cell_type": "code",
   "execution_count": 29,
   "metadata": {},
   "outputs": [
    {
     "name": "stdout",
     "output_type": "stream",
     "text": [
      "...................."
     ]
    }
   ],
   "source": [
    "ds, mus, taus = [], [], []\n",
    "d=20\n",
    "steps = 20\n",
    "for i in range(0, steps):\n",
    "    tau = i*2\n",
    "    r = model.initialRightProbabilities(N, d, 0.01)\n",
    "    for _ in range(10):\n",
    "        stationary = model.probabilities2Stationary(r)\n",
    "        for __ in range(5):\n",
    "            r = model.rightProbabilitiesWithSampling(stationary, r, epsilon=0.01, d=d, tau=tau, sampleNumber=5)\n",
    "    st = model.probabilities2Stationary(r)\n",
    "    mu = model.expectedValue(st)\n",
    "    ds.append(d)\n",
    "    mus.append(mu)\n",
    "    print('.', end='')\n",
    "data = {'d': ds, 'τ': [tau]*steps, 'µ': mus}\n",
    "df = pd.DataFrame(data = data)\n",
    "df.to_csv('model-d-20-sample-5.csv')"
   ]
  },
  {
   "cell_type": "code",
   "execution_count": 34,
   "metadata": {},
   "outputs": [
    {
     "data": {
      "text/plain": [
       "[<matplotlib.lines.Line2D at 0x7f343922eda0>]"
      ]
     },
     "execution_count": 34,
     "metadata": {},
     "output_type": "execute_result"
    },
    {
     "data": {
      "image/png": "[encoded data removed]",
      "text/plain": [
       "<Figure size 432x288 with 1 Axes>"
      ]
     },
     "metadata": {
      "needs_background": "light"
     },
     "output_type": "display_data"
    }
   ],
   "source": [
    "df = pd.read_csv('model-d-20-sample-5.csv', sep=',')\n",
    "mus = df.to_dict('l')['µ']\n",
    "plt.plot(mus)"
   ]
  },
  {
   "cell_type": "code",
   "execution_count": 32,
   "metadata": {},
   "outputs": [
    {
     "name": "stdout",
     "output_type": "stream",
     "text": [
      "...................."
     ]
    }
   ],
   "source": [
    "ds, mus, taus = [], [], []\n",
    "d=20\n",
    "steps = 20\n",
    "for i in range(0, steps):\n",
    "    tau = i*2\n",
    "    r = model.initialRightProbabilities(N, d, 0.01)\n",
    "    for _ in range(10):\n",
    "        stationary = model.probabilities2Stationary(r)\n",
    "        for __ in range(5):\n",
    "            r = model.rightProbabilitiesWithSampling(stationary, r, epsilon=0.01, d=d, tau=tau, sampleNumber=10)\n",
    "    st = model.probabilities2Stationary(r)\n",
    "    mu = model.expectedValue(st)\n",
    "    ds.append(d)\n",
    "    mus.append(mu)\n",
    "    print('.', end='')\n",
    "data = {'d': ds, 'τ': [tau]*steps, 'µ': mus}\n",
    "df = pd.DataFrame(data = data)\n",
    "df.to_csv('model-d-20-sample-10.csv')"
   ]
  },
  {
   "cell_type": "code",
   "execution_count": 33,
   "metadata": {},
   "outputs": [
    {
     "data": {
      "text/plain": [
       "[<matplotlib.lines.Line2D at 0x7f34392cfb00>]"
      ]
     },
     "execution_count": 33,
     "metadata": {},
     "output_type": "execute_result"
    },
    {
     "data": {
      "image/png": "[encoded data removed]",
      "text/plain": [
       "<Figure size 432x288 with 1 Axes>"
      ]
     },
     "metadata": {
      "needs_background": "light"
     },
     "output_type": "display_data"
    }
   ],
   "source": [
    "df = pd.read_csv('model-d-20-sample-10.csv', sep=',')\n",
    "mus = df.to_dict('l')['µ']\n",
    "plt.plot(mus)"
   ]
  },
  {
   "cell_type": "code",
   "execution_count": 35,
   "metadata": {},
   "outputs": [
    {
     "name": "stdout",
     "output_type": "stream",
     "text": [
      "...................."
     ]
    }
   ],
   "source": [
    "ds, mus, taus = [], [], []\n",
    "d=20\n",
    "steps = 20\n",
    "for i in range(0, steps):\n",
    "    tau = i*2\n",
    "    r = model.initialRightProbabilities(N, d, 0.01)\n",
    "    for _ in range(10):\n",
    "        stationary = model.probabilities2Stationary(r)\n",
    "        for __ in range(5):\n",
    "            r = model.rightProbabilitiesWithSampling(stationary, r, epsilon=0.01, d=d, tau=tau, sampleNumber=15)\n",
    "    st = model.probabilities2Stationary(r)\n",
    "    mu = model.expectedValue(st)\n",
    "    ds.append(d)\n",
    "    mus.append(mu)\n",
    "    print('.', end='')\n",
    "data = {'d': ds, 'τ': [tau]*steps, 'µ': mus}\n",
    "df = pd.DataFrame(data = data)\n",
    "df.to_csv('model-d-20-sample-15.csv')"
   ]
  },
  {
   "cell_type": "code",
   "execution_count": 36,
   "metadata": {},
   "outputs": [
    {
     "data": {
      "text/plain": [
       "[<matplotlib.lines.Line2D at 0x7f3439218eb8>]"
      ]
     },
     "execution_count": 36,
     "metadata": {},
     "output_type": "execute_result"
    },
    {
     "data": {
      "image/png": "[encoded data removed]",
      "text/plain": [
       "<Figure size 432x288 with 1 Axes>"
      ]
     },
     "metadata": {
      "needs_background": "light"
     },
     "output_type": "display_data"
    }
   ],
   "source": [
    "df = pd.read_csv('model-d-20-sample-15.csv', sep=',')\n",
    "mus = df.to_dict('l')['µ']\n",
    "plt.plot(mus)"
   ]
  },
  {
   "cell_type": "code",
   "execution_count": 37,
   "metadata": {},
   "outputs": [
    {
     "name": "stdout",
     "output_type": "stream",
     "text": [
      "...................."
     ]
    }
   ],
   "source": [
    "ds, mus, taus = [], [], []\n",
    "d=20\n",
    "steps = 20\n",
    "for i in range(0, steps):\n",
    "    tau = i*2\n",
    "    r = model.initialRightProbabilities(N, d, 0.01)\n",
    "    for _ in range(10):\n",
    "        stationary = model.probabilities2Stationary(r)\n",
    "        for __ in range(5):\n",
    "            r = model.rightProbabilitiesWithSampling(stationary, r, epsilon=0.01, d=d, tau=tau, sampleNumber=50)\n",
    "    st = model.probabilities2Stationary(r)\n",
    "    mu = model.expectedValue(st)\n",
    "    ds.append(d)\n",
    "    mus.append(mu)\n",
    "    print('.', end='')\n",
    "data = {'d': ds, 'τ': [tau]*steps, 'µ': mus}\n",
    "df = pd.DataFrame(data = data)\n",
    "df.to_csv('model-d-20-sample-50.csv')"
   ]
  },
  {
   "cell_type": "code",
   "execution_count": 38,
   "metadata": {},
   "outputs": [
    {
     "data": {
      "text/plain": [
       "[<matplotlib.lines.Line2D at 0x7f343917ef28>]"
      ]
     },
     "execution_count": 38,
     "metadata": {},
     "output_type": "execute_result"
    },
    {
     "data": {
      "image/png": "[encoded data removed]",
      "text/plain": [
       "<Figure size 432x288 with 1 Axes>"
      ]
     },
     "metadata": {
      "needs_background": "light"
     },
     "output_type": "display_data"
    }
   ],
   "source": [
    "df = pd.read_csv('model-d-20-sample-50.csv', sep=',')\n",
    "mus = df.to_dict('l')['µ']\n",
    "plt.plot(mus)"
   ]
  }
 ],
 "metadata": {
  "hide_input": false,
  "kernelspec": {
   "display_name": "Python 3",
   "language": "python",
   "name": "python3"
  },
  "language_info": {
   "codemirror_mode": {
    "name": "ipython",
    "version": 3
   },
   "file_extension": ".py",
   "mimetype": "text/x-python",
   "name": "python",
   "nbconvert_exporter": "python",
   "pygments_lexer": "ipython3",
   "version": "3.6.10"
  },
  "latex_envs": {
   "LaTeX_envs_menu_present": true,
   "autoclose": true,
   "autocomplete": true,
   "bibliofile": "biblio.bib",
   "cite_by": "apalike",
   "current_citInitial": 1,
   "eqLabelWithNumbers": false,
   "eqNumInitial": 1,
   "hotkeys": {
    "equation": "Ctrl-E",
    "itemize": "Ctrl-I"
   },
   "labels_anchors": false,
   "latex_user_defs": false,
   "report_style_numbering": false,
   "user_envs_cfg": false
  }
 },
 "nbformat": 4,
 "nbformat_minor": 2
}
