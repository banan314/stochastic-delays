{
 "cells": [
  {
   "cell_type": "code",
   "execution_count": 1,
   "metadata": {},
   "outputs": [],
   "source": [
    "import sys\n",
    "sys.path.append(\"../\")"
   ]
  },
  {
   "cell_type": "code",
   "execution_count": 2,
   "metadata": {},
   "outputs": [],
   "source": [
    "from scipy import special\n",
    "import numpy as np\n",
    "from collections import deque\n",
    "import matplotlib.pyplot as plt\n",
    "from delay.delay import *\n",
    "import delay.model as model"
   ]
  },
  {
   "cell_type": "code",
   "execution_count": 14,
   "metadata": {},
   "outputs": [
    {
     "data": {
      "text/plain": [
       "[0.625, 1.4]"
      ]
     },
     "execution_count": 14,
     "metadata": {},
     "output_type": "execute_result"
    }
   ],
   "source": [
    "p = [0.2, 0.5, 0.7]\n",
    "model.eigenvector(p)"
   ]
  },
  {
   "cell_type": "code",
   "execution_count": 4,
   "metadata": {},
   "outputs": [
    {
     "data": {
      "text/plain": [
       "[0.18234442836468884,\n",
       " 0.2026049204052098,\n",
       " 0.2532561505065123,\n",
       " 0.361794500723589]"
      ]
     },
     "execution_count": 4,
     "metadata": {},
     "output_type": "execute_result"
    }
   ],
   "source": [
    "p = [0.9, 0.8, 0.7]\n",
    "model.calculateStationary(p)"
   ]
  },
  {
   "cell_type": "code",
   "execution_count": 15,
   "metadata": {},
   "outputs": [
    {
     "data": {
      "text/plain": [
       "[0.26717557251908397, 0.42748091603053434, 0.3053435114503817]"
      ]
     },
     "execution_count": 15,
     "metadata": {},
     "output_type": "execute_result"
    }
   ],
   "source": [
    "quotient = [0.625, 1.4]\n",
    "evector = deque()\n",
    "evector.appendleft(1)\n",
    "evector.appendleft(quotient[1] * evector[0])\n",
    "evector.appendleft(quotient[0] * evector[0])\n",
    "model.normalize(evector)"
   ]
  },
  {
   "cell_type": "code",
   "execution_count": 16,
   "metadata": {},
   "outputs": [
    {
     "data": {
      "text/plain": [
       "[0.26717557251908397, 0.42748091603053434, 0.3053435114503817]"
      ]
     },
     "execution_count": 16,
     "metadata": {},
     "output_type": "execute_result"
    }
   ],
   "source": [
    "model.normalize([7/8, 7/5, 1])"
   ]
  },
  {
   "cell_type": "code",
   "execution_count": 17,
   "metadata": {},
   "outputs": [
    {
     "data": {
      "text/plain": [
       "[0.625, 1.4]"
      ]
     },
     "execution_count": 17,
     "metadata": {},
     "output_type": "execute_result"
    }
   ],
   "source": [
    "[(7/8)/(7/5), 7/5]"
   ]
  },
  {
   "cell_type": "code",
   "execution_count": 18,
   "metadata": {},
   "outputs": [
    {
     "name": "stdout",
     "output_type": "stream",
     "text": [
      "gp * num = 5.000000 * 0.000000 = 0.000000\n",
      "gp * num = 6.000000 * 0.000000 = 0.000000\n",
      "gp * num = 7.000000 * 0.000000 = 0.000000\n",
      "gp * num = 8.000000 * 0.000000 = 0.000000\n",
      "gp * num = 9.000000 * 0.000000 = 0.000000\n",
      "gp * num = 10.000000 * 0.000000 = 0.000000\n",
      "gp * num = 11.000000 * 0.000000 = 0.000000\n",
      "gp * num = 12.000000 * 0.000000 = 0.000000\n",
      "gp * num = 13.000000 * 0.000000 = 0.000000\n",
      "gp * num = 14.000000 * 0.000000 = 0.000000\n",
      "gp * num = 15.000000 * 0.000000 = 0.000000\n",
      "gp * num = 16.000000 * 0.000000 = 0.000000\n",
      "gp * num = 17.000000 * 0.000000 = 0.000000\n",
      "gp * num = 18.000000 * 0.000000 = 0.000000\n",
      "gp * num = 19.000000 * 0.000000 = 0.000000\n",
      "gp * num = 20.000000 * 0.000000 = 0.000000\n",
      "gp * num = 21.000000 * 0.000000 = 0.000000\n",
      "gp * num = 22.000000 * -0.000000 = -0.000000\n",
      "gp * num = 23.000000 * 0.000000 = 0.000000\n",
      "gp * num = 24.000000 * 0.000000 = 0.000000\n",
      "gp * num = 25.000000 * 0.000000 = 0.000000\n",
      "gp * num = 26.000000 * -0.000000 = -0.000000\n",
      "gp * num = 27.000000 * 0.000000 = 0.000000\n",
      "gp * num = 28.000000 * 0.000000 = 0.000000\n",
      "gp * num = 29.000000 * 0.000000 = 0.000000\n",
      "gp * num = 30.000000 * -0.000000 = -0.000000\n",
      "gp * num = 31.000000 * 0.000000 = 0.000000\n",
      "gp * num = 32.000000 * 0.000000 = 0.000000\n",
      "gp * num = 33.000000 * 0.000000 = 0.000000\n",
      "gp * num = 34.000000 * -0.000000 = -0.000000\n",
      "gp * num = 35.000000 * 0.000000 = 0.000000\n",
      "gp * num = 36.000000 * 0.000000 = 0.000000\n",
      "gp * num = 37.000000 * 0.000000 = 0.000000\n",
      "gp * num = 38.000000 * -0.000000 = -0.000000\n",
      "gp * num = 39.000000 * 0.000000 = 0.000000\n",
      "gp * num = 40.000000 * 0.000000 = 0.000000\n",
      "gp * num = 41.000000 * 0.000000 = 0.000000\n",
      "gp * num = 42.000000 * -0.000000 = -0.000000\n",
      "gp * num = 43.000000 * 0.000000 = 0.000000\n",
      "gp * num = 44.000000 * 0.000000 = 0.000000\n",
      "gp * num = 45.000000 * 0.000000 = 0.000000\n"
     ]
    },
    {
     "name": "stderr",
     "output_type": "stream",
     "text": [
      "/home/kamil/anaconda3/lib/python3.6/site-packages/ipykernel_launcher.py:15: RuntimeWarning: invalid value encountered in double_scalars\n",
      "  from ipykernel import kernelapp as app\n"
     ]
    },
    {
     "data": {
      "text/plain": [
       "nan"
      ]
     },
     "execution_count": 18,
     "metadata": {},
     "output_type": "execute_result"
    }
   ],
   "source": [
    "d = 20\n",
    "N = 100\n",
    "tau = 20\n",
    "epsilon = 0.01\n",
    "\n",
    "total = 0\n",
    "someVal = 25\n",
    "prob = 0\n",
    "for i in range(someVal-tau, someVal+tau+1):\n",
    "    gp = model.veryGeneralProb(d, epsilon, i)\n",
    "    num = model.P(tau, i, gp)\n",
    "    print('gp * num = %f * %f = %f' % (gp, num, gp*num))\n",
    "    total += num\n",
    "    prob += num * gp\n",
    "prob/total"
   ]
  },
  {
   "cell_type": "code",
   "execution_count": 19,
   "metadata": {},
   "outputs": [
    {
     "data": {
      "text/plain": [
       "0.0"
      ]
     },
     "execution_count": 19,
     "metadata": {},
     "output_type": "execute_result"
    }
   ],
   "source": [
    "model.P(N, 14, 0.5)"
   ]
  },
  {
   "cell_type": "code",
   "execution_count": 20,
   "metadata": {},
   "outputs": [
    {
     "name": "stdout",
     "output_type": "stream",
     "text": [
      "0.13334393501281744\n"
     ]
    }
   ],
   "source": [
    "x = 24\n",
    "totalPsi = 0\n",
    "totalPaths = 2 ** tau\n",
    "for i in range(-tau, tau):\n",
    "    totalPsi += model.psi(d, epsilon, x, N, tau, i)\n",
    "print(totalPsi / totalPaths)"
   ]
  },
  {
   "cell_type": "code",
   "execution_count": 21,
   "metadata": {},
   "outputs": [
    {
     "data": {
      "image/png": "[encoded data removed]",
      "text/plain": [
       "<Figure size 432x288 with 1 Axes>"
      ]
     },
     "metadata": {
      "needs_background": "light"
     },
     "output_type": "display_data"
    }
   ],
   "source": [
    "steps = model.domain(100)\n",
    "vGeneral = np.vectorize(model.generalProb)\n",
    "gen = vGeneral(20, 0.01, steps, 100, 5, 0)\n",
    "plt.plot(steps, gen)\n",
    "plt.show()"
   ]
  },
  {
   "cell_type": "code",
   "execution_count": 136,
   "metadata": {},
   "outputs": [
    {
     "data": {
      "image/png": "[encoded data removed]",
      "text/plain": [
       "<Figure size 432x288 with 1 Axes>"
      ]
     },
     "metadata": {
      "needs_background": "light"
     },
     "output_type": "display_data"
    }
   ],
   "source": [
    "probs = []\n",
    "N = 100\n",
    "tau = 30\n",
    "for x in range(-int(N/2), int(N/2)+1):\n",
    "    totalPsi = 0\n",
    "    totalPaths = 2 ** tau\n",
    "    for i in range(-tau, tau):\n",
    "        totalPsi += model.psi(d, epsilon, x, N, tau, i)\n",
    "    probs.append(totalPsi / totalPaths)\n",
    "    \n",
    "plt.plot(model.domain(N), probs)\n",
    "plt.show()"
   ]
  },
  {
   "cell_type": "code",
   "execution_count": 143,
   "metadata": {},
   "outputs": [
    {
     "data": {
      "text/plain": [
       "[<matplotlib.lines.Line2D at 0x7f9e28bf3390>]"
      ]
     },
     "execution_count": 143,
     "metadata": {},
     "output_type": "execute_result"
    },
    {
     "data": {
      "image/png": "[encoded data removed]",
      "text/plain": [
       "<Figure size 432x288 with 1 Axes>"
      ]
     },
     "metadata": {
      "needs_background": "light"
     },
     "output_type": "display_data"
    }
   ],
   "source": [
    "l = 35\n",
    "z = 50+4\n",
    "ss = slice(z, z+l)\n",
    "plt.plot(range(z, z+l), probs[ss])"
   ]
  },
  {
   "cell_type": "code",
   "execution_count": 121,
   "metadata": {},
   "outputs": [
    {
     "data": {
      "text/plain": [
       "101"
      ]
     },
     "execution_count": 121,
     "metadata": {},
     "output_type": "execute_result"
    }
   ],
   "source": [
    "len(probs)"
   ]
  },
  {
   "cell_type": "code",
   "execution_count": 122,
   "metadata": {},
   "outputs": [
    {
     "data": {
      "image/png": "[encoded data removed]",
      "text/plain": [
       "<Figure size 432x288 with 1 Axes>"
      ]
     },
     "metadata": {
      "needs_background": "light"
     },
     "output_type": "display_data"
    }
   ],
   "source": [
    "stationary = model.probabilities2Stationary(probs)\n",
    "\n",
    "model.plot(stationary, len(stationary)-1)"
   ]
  },
  {
   "cell_type": "code",
   "execution_count": 126,
   "metadata": {},
   "outputs": [
    {
     "name": "stdout",
     "output_type": "stream",
     "text": [
      "slice(56, 25, None)\n"
     ]
    }
   ],
   "source": [
    "print(ss)"
   ]
  },
  {
   "cell_type": "code",
   "execution_count": 130,
   "metadata": {},
   "outputs": [
    {
     "data": {
      "text/plain": [
       "[<matplotlib.lines.Line2D at 0x7f9e28f26ef0>]"
      ]
     },
     "execution_count": 130,
     "metadata": {},
     "output_type": "execute_result"
    },
    {
     "data": {
      "image/png": "[encoded data removed]",
      "text/plain": [
       "<Figure size 432x288 with 1 Axes>"
      ]
     },
     "metadata": {
      "needs_background": "light"
     },
     "output_type": "display_data"
    }
   ],
   "source": [
    "l = 18\n",
    "ss = slice(56, 56+l)\n",
    "plt.plot(range(56, 56+l), stationary[ss])"
   ]
  },
  {
   "cell_type": "code",
   "execution_count": 106,
   "metadata": {},
   "outputs": [
    {
     "data": {
      "text/plain": [
       "0.009900990099009901"
      ]
     },
     "execution_count": 106,
     "metadata": {},
     "output_type": "execute_result"
    }
   ],
   "source": [
    "np.mean(stationary)"
   ]
  },
  {
   "cell_type": "code",
   "execution_count": 107,
   "metadata": {},
   "outputs": [
    {
     "data": {
      "text/plain": [
       "0.028457828458923903"
      ]
     },
     "execution_count": 107,
     "metadata": {},
     "output_type": "execute_result"
    }
   ],
   "source": [
    "max(stationary)"
   ]
  },
  {
   "cell_type": "code",
   "execution_count": 111,
   "metadata": {},
   "outputs": [
    {
     "name": "stdout",
     "output_type": "stream",
     "text": [
      "57\n"
     ]
    }
   ],
   "source": [
    "for i in range(50, len(stationary)):\n",
    "    if stationary[i] < 0.028:\n",
    "        print(i)\n",
    "        break"
   ]
  },
  {
   "cell_type": "code",
   "execution_count": null,
   "metadata": {},
   "outputs": [],
   "source": []
  },
  {
   "cell_type": "code",
   "execution_count": 87,
   "metadata": {},
   "outputs": [],
   "source": [
    "approximatedProbs = probs"
   ]
  },
  {
   "cell_type": "code",
   "execution_count": 88,
   "metadata": {},
   "outputs": [
    {
     "data": {
      "text/plain": [
       "101"
      ]
     },
     "execution_count": 88,
     "metadata": {},
     "output_type": "execute_result"
    }
   ],
   "source": [
    "len(approximatedProbs)"
   ]
  },
  {
   "cell_type": "code",
   "execution_count": 60,
   "metadata": {},
   "outputs": [
    {
     "data": {
      "image/png": "[encoded data removed]",
      "text/plain": [
       "<Figure size 432x288 with 1 Axes>"
      ]
     },
     "metadata": {
      "needs_background": "light"
     },
     "output_type": "display_data"
    }
   ],
   "source": [
    "import importlib\n",
    "importlib.reload(model)\n",
    "probs = []\n",
    "N = 100\n",
    "tau = 30\n",
    "for x in range(-int(N/2), int(N/2)+1):\n",
    "    totalPsi = 0\n",
    "    \n",
    "    for i in range(-tau, tau):\n",
    "        totalPsi += model.accurateProbabilities(x, N, tau, i, approximatedProbs)\n",
    "    probs.append(totalPsi)\n",
    "    \n",
    "plt.plot(model.domain(N), probs)\n",
    "plt.show()"
   ]
  },
  {
   "cell_type": "code",
   "execution_count": 76,
   "metadata": {},
   "outputs": [
    {
     "data": {
      "text/plain": [
       "0.988182389768428"
      ]
     },
     "execution_count": 76,
     "metadata": {},
     "output_type": "execute_result"
    }
   ],
   "source": [
    "def multiply(pos, tau):\n",
    "    if tau == 0:\n",
    "        return 1.0\n",
    "\n",
    "    accumulator = 0.0\n",
    "    if pos-1 >= -N/2:\n",
    "        accumulator += (1-probs[pos])*multiply(pos-1, tau-1)\n",
    "    if pos+1 <= N/2:\n",
    "        accumulator += probs[pos] * multiply(pos+1, tau-1)\n",
    "\n",
    "    return accumulator\n",
    "\n",
    "multiply(40, 20)"
   ]
  },
  {
   "cell_type": "code",
   "execution_count": 54,
   "metadata": {},
   "outputs": [
    {
     "data": {
      "text/plain": [
       "[0.0001,\n",
       " 0.0001,\n",
       " 0.0001,\n",
       " 0.0001,\n",
       " 0.0001,\n",
       " 0.0001,\n",
       " 0.0001,\n",
       " 0.0001,\n",
       " 0.0001,\n",
       " 0.0001,\n",
       " 0.0001,\n",
       " 0.0001,\n",
       " 0.0001,\n",
       " 0.0001,\n",
       " 0.0001,\n",
       " 0.0001,\n",
       " 0.0001,\n",
       " 0.0001,\n",
       " 0.0001,\n",
       " 0.0001,\n",
       " 0.0001,\n",
       " 0.0001,\n",
       " 0.0001,\n",
       " 0.0001,\n",
       " 0.0001,\n",
       " 0.0001,\n",
       " 0.0001,\n",
       " 0.0001,\n",
       " 0.0001,\n",
       " 0.0027307740640759,\n",
       " 0.13634002841631038,\n",
       " 0.21106302028708293,\n",
       " 0.24980827980392314,\n",
       " 0.26491893465513866,\n",
       " 0.2701748316393675,\n",
       " 0.2718955265693412,\n",
       " 0.27243896365285236,\n",
       " 0.2726068412910602,\n",
       " 0.2726582076014325,\n",
       " 0.2726739433012625,\n",
       " 0.2726793946896963,\n",
       " 0.2726816585522723,\n",
       " 0.2726846234846816,\n",
       " 0.2726875365049282,\n",
       " 0.27269585775733207,\n",
       " 0.2727050024001716,\n",
       " 0.27273170026587445,\n",
       " 0.27276120005029175,\n",
       " 0.272845173967331,\n",
       " 0.2729379835992534,\n",
       " 0.273190629089448,\n",
       " 0.27346623059444847,\n",
       " 0.2741564733184176,\n",
       " 0.2749385842688149,\n",
       " 0.27673268928633193,\n",
       " 0.278803048551486,\n",
       " 0.28308941072999017,\n",
       " 0.2879971317865813,\n",
       " 0.2969061169040736,\n",
       " 0.30643549338352044,\n",
       " 0.3204969119486406,\n",
       " 0.3327897100388933,\n",
       " 0.3434008276755457,\n",
       " 0.3462351830926128,\n",
       " 0.33154119676626,\n",
       " 0.3094952764198361,\n",
       " 0.26171026647410967,\n",
       " 0.22541627099651157,\n",
       " 0.1838893156195879,\n",
       " 0.16293250172892074,\n",
       " 0.16348106877687352,\n",
       " 0.1699146954995085,\n",
       " 0.19957406360342517,\n",
       " 0.01014830238574199,\n",
       " 0.008576529439507444,\n",
       " 0.0005698070160017918,\n",
       " 0.00040699170378768725,\n",
       " 0.0001,\n",
       " 0.0001,\n",
       " 0.0001,\n",
       " 0.0001,\n",
       " 0.0001,\n",
       " 0.0001,\n",
       " 0.0001,\n",
       " 0.0001,\n",
       " 0.0001,\n",
       " 0.0001,\n",
       " 0.0001,\n",
       " 0.0001,\n",
       " 0.0001,\n",
       " 0.0001,\n",
       " 0.0001,\n",
       " 0.0001,\n",
       " 0.0001,\n",
       " 0.0001,\n",
       " 0.0001,\n",
       " 0.0001,\n",
       " 0.0001,\n",
       " 0.0001,\n",
       " 0.0001,\n",
       " 0.0001]"
      ]
     },
     "execution_count": 54,
     "metadata": {},
     "output_type": "execute_result"
    }
   ],
   "source": [
    "model.makeNonDeterministic(probs)\n",
    "probs"
   ]
  },
  {
   "cell_type": "code",
   "execution_count": 55,
   "metadata": {},
   "outputs": [
    {
     "data": {
      "image/png": "[encoded data removed]",
      "text/plain": [
       "<Figure size 432x288 with 1 Axes>"
      ]
     },
     "metadata": {
      "needs_background": "light"
     },
     "output_type": "display_data"
    }
   ],
   "source": [
    "stationary = model.probabilities2Stationary(probs)\n",
    "\n",
    "model.plot(stationary, len(stationary)-1)"
   ]
  },
  {
   "cell_type": "code",
   "execution_count": 113,
   "metadata": {},
   "outputs": [
    {
     "name": "stdout",
     "output_type": "stream",
     "text": [
      "....................................................................................................."
     ]
    },
    {
     "data": {
      "image/png": "[encoded data removed]",
      "text/plain": [
       "<Figure size 432x288 with 1 Axes>"
      ]
     },
     "metadata": {
      "needs_background": "light"
     },
     "output_type": "display_data"
    }
   ],
   "source": [
    "import importlib\n",
    "importlib.reload(model)\n",
    "probs = []\n",
    "N = 100\n",
    "tau = 20\n",
    "for x in range(-int(N/2), int(N/2)+1):\n",
    "    print('.', end='')\n",
    "    totalPsi = 0\n",
    "    \n",
    "    for i in range(-tau, tau):\n",
    "        totalPsi += model.fineGrainedProbabilities(x, N, tau, i, approximatedProbs)\n",
    "    probs.append(totalPsi)\n",
    "    \n",
    "plt.plot(model.domain(N), probs)\n",
    "plt.show()"
   ]
  },
  {
   "cell_type": "code",
   "execution_count": 114,
   "metadata": {},
   "outputs": [
    {
     "name": "stdout",
     "output_type": "stream",
     "text": [
      "[0.1758320716587181, 0.3356099989615781, 0.4954387861441411, 0.6151113894012649, 0.7349519187805076, 0.8084533731263074, 0.8823320032935303, 0.9190639666915277, 0.9563810025086761, 0.9711828836845444, 0.986618520040913, 0.9913843561867794, 0.9966347915887241, 0.9978466473595096, 0.9993225463485904, 0.9995595656185035, 0.9998986618078292, 0.9999316845373074, 0.9999912254183518, 0.9999937735023706, 1.0000000000000009, 1.0000000000000009, 1.0000000000000004, 1.0000000000000007, 1.0000000000000002, 1.0000000000000002, 1.0000000000000002, 1.0, 1.0, 0.9999999999999998, 0.9999999999999999, 0.9999999999999998, 0.9999999999999999, 1.0, 0.9999999999999998, 0.9999999999999996, 0.9999999999999994, 0.9999999999999998, 0.9999999999999994, 0.9999999999999999, 0.9999999999999999, 0.9999999999999996, 1.0, 0.9999999999999907, 0.9999999999991307, 0.9999999999139916, 0.9999999914853975, 0.9999991570555529, 0.9999165486177928, 0.9917383135385095, 0.18209307763747135, 0.18209307763747135, 0.18209307763747135, 0.18209307763747135, 0.18209307763747135, 0.18209307763747135, 0.18209307763747135, 0.1820930889480847, 0.18209326426258843, 0.18209497027970525, 0.18210700851460446, 0.5869227315730325, 0.7913751169560772, 0.8946338974525642, 0.946784796693214, 0.9731236346935428, 0.9864260781280519, 0.9931444839030563, 0.9965376181328569, 0.9982513222893213, 0.9991168294390516, 0.999553954262147, 0.9997747243748218, 0.9998862244317283, 0.9999425375917821, 0.9999709785817079, 0.9999853427180344, 0.999992597332238, 0.9999962612782092, 0.9999981117535341, 0.9999990463300708, 0.999999046357863, 0.9999980927157242, 0.9999790198451569, 0.999959946974554, 0.9997787544080571, 0.9995975618412231, 0.9985104044391213, 0.9974232470349944, 0.9928028184060143, 0.9881823897684278, 0.9733969827114805, 0.9586115756269932, 0.9216479555187295, 0.8846843353416158, 0.8107568555573472, 0.7368293756353783, 0.6166967601362796, 0.49656413783474196, 0.336386453640278, 0.17620744609035355]\n"
     ]
    }
   ],
   "source": [
    "print(probs)"
   ]
  },
  {
   "cell_type": "code",
   "execution_count": 119,
   "metadata": {},
   "outputs": [
    {
     "data": {
      "image/png": "[encoded data removed]",
      "text/plain": [
       "<Figure size 432x288 with 1 Axes>"
      ]
     },
     "metadata": {
      "needs_background": "light"
     },
     "output_type": "display_data"
    }
   ],
   "source": [
    "probs = [0.1758320716587181, 0.3356099989615781, 0.4954387861441411, 0.6151113894012649, 0.7349519187805076, 0.8084533731263074, 0.8823320032935303, 0.9190639666915277, 0.9563810025086761, 0.9711828836845444, 0.986618520040913, 0.9913843561867794, 0.9966347915887241, 0.9978466473595096, 0.9993225463485904, 0.9995595656185035, 0.9998986618078292, 0.9999316845373074, 0.9999912254183518, 0.9999937735023706, 1.0000000000000009, 1.0000000000000009, 1.0000000000000004, 1.0000000000000007, 1.0000000000000002, 1.0000000000000002, 1.0000000000000002, 1.0, 1.0, 0.9999999999999998, 0.9999999999999999, 0.9999999999999998, 0.9999999999999999, 1.0, 0.9999999999999998, 0.9999999999999996, 0.9999999999999994, 0.9999999999999998, 0.9999999999999994, 0.9999999999999999, 0.9999999999999999, 0.9999999999999996, 1.0, 0.9999999999999907, 0.9999999999991307, 0.9999999999139916, 0.9999999914853975, 0.9999991570555529, 0.9999165486177928, 0.9917383135385095, 0.18209307763747135, 0.18209307763747135, 0.18209307763747135, 0.18209307763747135, 0.18209307763747135, 0.18209307763747135, 0.18209307763747135, 0.1820930889480847, 0.18209326426258843, 0.18209497027970525, 0.18210700851460446, 0.5869227315730325, 0.7913751169560772, 0.8946338974525642, 0.946784796693214, 0.9731236346935428, 0.9864260781280519, 0.9931444839030563, 0.9965376181328569, 0.9982513222893213, 0.9991168294390516, 0.999553954262147, 0.9997747243748218, 0.9998862244317283, 0.9999425375917821, 0.9999709785817079, 0.9999853427180344, 0.999992597332238, 0.9999962612782092, 0.9999981117535341, 0.9999990463300708, 0.999999046357863, 0.9999980927157242, 0.9999790198451569, 0.999959946974554, 0.9997787544080571, 0.9995975618412231, 0.9985104044391213, 0.9974232470349944, 0.9928028184060143, 0.9881823897684278, 0.9733969827114805, 0.9586115756269932, 0.9216479555187295, 0.8846843353416158, 0.8107568555573472, 0.7368293756353783, 0.6166967601362796, 0.49656413783474196, 0.336386453640278, 0.17620744609035355]\n",
    "for i in model.domain(N):\n",
    "    probs[i] = probs[i] * model.generalProb(20, 0.01, i, 100, 5, 0)\n",
    "plt.plot(model.domain(N), probs)\n",
    "plt.show()"
   ]
  },
  {
   "cell_type": "code",
   "execution_count": 103,
   "metadata": {},
   "outputs": [
    {
     "data": {
      "text/plain": [
       "0.3360468700838099"
      ]
     },
     "execution_count": 103,
     "metadata": {},
     "output_type": "execute_result"
    }
   ],
   "source": [
    "model.fineGrainedProbabilities(30, 100, 20, 0, approximatedProbs)"
   ]
  },
  {
   "cell_type": "code",
   "execution_count": 101,
   "metadata": {},
   "outputs": [
    {
     "data": {
      "text/plain": [
       "0.01980000180713814"
      ]
     },
     "execution_count": 101,
     "metadata": {},
     "output_type": "execute_result"
    }
   ],
   "source": [
    "def multiply(pos, tau, destination):\n",
    "        def canDecrement(pos, tau, destination):\n",
    "            if pos >= destination:\n",
    "                return pos-1 >= -N/2\n",
    "            return destination-(pos-1) <= tau-1 and pos-1 >= -N/2\n",
    "\n",
    "        def canIncrement(pos, tau, destination):\n",
    "            if pos <= destination:\n",
    "                return pos+1 <= N/2\n",
    "            return pos+1-destination <= tau-1 and pos+1 <= N/2\n",
    "\n",
    "        if tau == 0:\n",
    "            return 1.0\n",
    "        \n",
    "        accumulator = 0.0\n",
    "        if canDecrement(pos, tau, destination):\n",
    "            accumulator += (1-approximatedProbs[pos]) * \\\n",
    "                multiply(pos-1, tau-1, destination)\n",
    "        if canIncrement(pos, tau, destination):\n",
    "            accumulator += approximatedProbs[pos] * \\\n",
    "                multiply(pos+1, tau-1, destination)\n",
    "\n",
    "        return accumulator\n",
    "    \n",
    "multiply(20, 2, 20)"
   ]
  },
  {
   "cell_type": "code",
   "execution_count": 100,
   "metadata": {},
   "outputs": [
    {
     "name": "stdout",
     "output_type": "stream",
     "text": [
      "[0.9899999990779907, 0.9899999990779907, 0.9899999990779907, 0.9899999990779907, 0.9899999990779907, 0.9899999990779907, 0.9899999990779907, 0.9899999990779907, 0.9899999990779907, 0.9899999990779907, 0.9899999990779907, 0.9899999990779907, 0.9899999990779907, 0.9899999990779907, 0.9899999990779907, 0.9899999990779907, 0.9899999990779907, 0.9899999990779907, 0.9899999990779907, 0.9899999990779907, 0.9899999990779907, 0.9899999990779907, 0.9899999990779907, 0.9899999990779907, 0.9899999990779907, 0.9899999990779907, 0.9899999853875489, 0.9899997868761421, 0.9899979341030122, 0.989985427884385, 0.4999999995343387, 0.4999999995343387, 0.4999999995343387, 0.4999999995343387, 0.4999999995343387, 0.4999999995343387, 0.4999999995343387, 0.4999999995343387, 0.4999999995343387, 0.4999999995343387, 0.4999999995343387, 0.4999999995343387, 0.4999999995343387, 0.4999999995343387, 0.4999999995343387, 0.4999999995343387, 0.4999999995343387, 0.4999999858438969, 0.4999997873324901, 0.4999979345593602, 0.4999854283407331, 0.4999203960038722, 0.4999203960038722, 0.4996494279336185, 0.4996494279336185, 0.4987203945498914, 0.4987203945498914, 0.4960494235716761, 0.4960494235716761, 0.48952038340270526, 0.48952038340270526, 0.4758093990478665, 0.4758093990478665, 0.45088033658452337, 0.45088033658452337, 0.4114093210175634, 0.4114093210175634, 0.35675714561715727, 0.35675714561715727, 0.290393789773807, 0.290393789773807, 0.21960621020756663, 0.21960621020756663, 0.15324285436421634, 0.15324285436421634, 0.0985906789638102, 0.0985906789638102, 0.05911966339685023, 0.05911966339685023, 0.034190600933507086, 0.034190600933507086, 0.02047961657866836, 0.02047961657866836, 0.013950576409697534, 0.013950576409697534, 0.011279605431482199, 0.011279605431482199, 0.010350572047755125, 0.010350572047755125, 0.010079603977501395, 0.010079603977501395, 0.010014571640640499, 0.010014571640640499, 0.010002065422013404, 0.010002065422013404, 0.010000212648883462, 0.010000212648883462, 0.010000014137476684, 0.010000014137476684, 0.010000000447034838, 0.010000000447034838]\n"
     ]
    }
   ],
   "source": [
    "print(approximatedProbs)"
   ]
  }
 ],
 "metadata": {
  "kernelspec": {
   "display_name": "Python 3",
   "language": "python",
   "name": "python3"
  },
  "language_info": {
   "codemirror_mode": {
    "name": "ipython",
    "version": 3
   },
   "file_extension": ".py",
   "mimetype": "text/x-python",
   "name": "python",
   "nbconvert_exporter": "python",
   "pygments_lexer": "ipython3",
   "version": "3.6.7"
  }
 },
 "nbformat": 4,
 "nbformat_minor": 2
}
