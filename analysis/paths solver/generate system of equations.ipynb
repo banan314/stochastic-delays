{
 "cells": [
  {
   "cell_type": "code",
   "execution_count": 179,
   "metadata": {},
   "outputs": [],
   "source": [
    "import numpy as np\n",
    "import scipy.special\n",
    "import numpy.random as random\n",
    "import matplotlib.pyplot as plt"
   ]
  },
  {
   "cell_type": "code",
   "execution_count": 180,
   "metadata": {},
   "outputs": [],
   "source": [
    "import sys\n",
    "sys.path.append(\"../../\")"
   ]
  },
  {
   "cell_type": "code",
   "execution_count": 181,
   "metadata": {},
   "outputs": [],
   "source": [
    "from fractions import Fraction\n",
    "from delay.matrix.Solver import *\n",
    "from delay.matrix.Path import *\n",
    "from delay.matrix.Matrix import *\n",
    "import numpy as np\n",
    "import pyperclip\n",
    "import matplotlib.pyplot as plt\n",
    "from matplotlib.ticker import MaxNLocator\n",
    "import pandas as pd\n",
    "import string"
   ]
  },
  {
   "cell_type": "code",
   "execution_count": 190,
   "metadata": {
    "code_folding": []
   },
   "outputs": [],
   "source": [
    "class Generator:\n",
    "    def __init__(self, tau):\n",
    "        self.tau = tau\n",
    "        self.prob = 2 ** (-tau)\n",
    "        self.nOfPaths = 2 ** tau\n",
    "        self.n = self.nOfPaths * (2 * tau + 2)\n",
    "        self.aMatrix = np.zeros((self.n, self.n))\n",
    "\n",
    "    def generateCols(tau):\n",
    "        return list(range(-tau, tau+1, 2))\n",
    "\n",
    "    def generateCombs(tau):\n",
    "        return [scipy.special.comb(tau, x, exact=True) for x in range(tau+1)]\n",
    "\n",
    "    def constructSystemOfEquations(self):\n",
    "        combs = generateCombs(self.tau)\n",
    "        cols = generateCols(self.tau)\n",
    "        N = len(cols)\n",
    "        assert len(cols) == len(combs)\n",
    "        for state in range(1, 2*self.tau + 2):\n",
    "            i = 0\n",
    "            for c in range(N):\n",
    "                for _ in range(combs[c]):\n",
    "                    for col in range(self.nOfPaths):\n",
    "                        if state+cols[c] >= 2*self.tau+2:\n",
    "                            continue\n",
    "                        try:\n",
    "                            if cols[c] != self.tau:\n",
    "                                theProb = self.prob \n",
    "                            else:\n",
    "                                theProb = 1.0\n",
    "                            if random.random() < 0.1/self.tau:\n",
    "                                theProb = 0.0\n",
    "                            # if cols[c] == self.tau:\n",
    "                            #     print(state * self.nOfPaths + i, max(0, state+cols[c]) * self.nOfPaths + col)\n",
    "                            self.aMatrix[state * self.nOfPaths + i, max(0, state+cols[c]) * self.nOfPaths + col] = theProb\n",
    "                        except:\n",
    "                            print(state, self.nOfPaths, i, cols[c], col)\n",
    "                    i += 1\n",
    "\n",
    "        # fill diagonal\n",
    "        for i in range(self.nOfPaths):\n",
    "            self.aMatrix[i, i] = 1\n",
    "        for i in range(self.nOfPaths, self.n):\n",
    "            self.aMatrix[i, i] -= 1.0\n",
    "\n",
    "        return self.aMatrix\n",
    "    \n",
    "    def stationary(self):\n",
    "        B = np.zeros(self.n)\n",
    "        for i in range(self.nOfPaths):\n",
    "            B[i] = (1 / 2) ** self.tau\n",
    "\n",
    "        solution = np.linalg.solve(self.aMatrix, B)\n",
    "\n",
    "        stationary = []\n",
    "        for i in range(int(self.n / self.nOfPaths)):\n",
    "            s = sum(solution[self.nOfPaths * i : self.nOfPaths * (i + 1)])\n",
    "            stationary.append(s)\n",
    "            \n",
    "        return stationary\n",
    "    "
   ]
  },
  {
   "cell_type": "code",
   "execution_count": 10,
   "metadata": {},
   "outputs": [
    {
     "data": {
      "text/plain": [
       "[-4, -2, 0, 2, 4]"
      ]
     },
     "execution_count": 10,
     "metadata": {},
     "output_type": "execute_result"
    }
   ],
   "source": [
    "generateCols(4)"
   ]
  },
  {
   "cell_type": "code",
   "execution_count": 58,
   "metadata": {},
   "outputs": [
    {
     "data": {
      "text/plain": [
       "[1, 1]"
      ]
     },
     "execution_count": 58,
     "metadata": {},
     "output_type": "execute_result"
    }
   ],
   "source": [
    "generateCombs(1)"
   ]
  },
  {
   "cell_type": "code",
   "execution_count": 89,
   "metadata": {},
   "outputs": [
    {
     "data": {
      "text/plain": [
       "array([[ 1. ,  0. ,  0. ,  0. ,  0. ,  0. ,  0. ,  0. ],\n",
       "       [ 0. ,  1. ,  0. ,  0. ,  0. ,  0. ,  0. ,  0. ],\n",
       "       [ 0. ,  0.5, -1. ,  0. ,  0. ,  0. ,  0. ,  0. ],\n",
       "       [ 0. ,  0. ,  0. , -1. ,  1. ,  0. ,  0. ,  0. ],\n",
       "       [ 0. ,  0. ,  0.5,  0.5, -1. ,  0. ,  0. ,  0. ],\n",
       "       [ 0. ,  0. ,  0. ,  0. ,  0. , -1. ,  1. ,  0. ],\n",
       "       [ 0. ,  0. ,  0. ,  0. ,  0.5,  0.5, -1. ,  0. ],\n",
       "       [ 0. ,  0. ,  0. ,  0. ,  0. ,  0. ,  0. , -1. ]])"
      ]
     },
     "execution_count": 89,
     "metadata": {},
     "output_type": "execute_result"
    }
   ],
   "source": [
    "generator = Generator(1)\n",
    "aMatrix = generator.constructSystemOfEquations()\n",
    "aMatrix"
   ]
  },
  {
   "cell_type": "code",
   "execution_count": 90,
   "metadata": {},
   "outputs": [
    {
     "name": "stdout",
     "output_type": "stream",
     "text": [
      "[ 0.5   0.5   0.25  0.25  0.25  0.25  0.25 -0.  ]\n"
     ]
    },
    {
     "data": {
      "text/plain": [
       "[1.0, 0.5, 0.5, 0.25]"
      ]
     },
     "execution_count": 90,
     "metadata": {},
     "output_type": "execute_result"
    }
   ],
   "source": [
    "generator.stationary()"
   ]
  },
  {
   "cell_type": "code",
   "execution_count": 201,
   "metadata": {
    "scrolled": true
   },
   "outputs": [
    {
     "data": {
      "text/plain": [
       "-5.534633982613614"
      ]
     },
     "execution_count": 201,
     "metadata": {},
     "output_type": "execute_result"
    }
   ],
   "source": [
    "generator = Generator(5)\n",
    "generator.constructSystemOfEquations()\n",
    "s = generator.stationary()\n",
    "\n",
    "solver = Solver(tau=5, d=10)\n",
    "solver.stationary = s\n",
    "solver.calculateMean()"
   ]
  },
  {
   "cell_type": "code",
   "execution_count": 205,
   "metadata": {},
   "outputs": [
    {
     "data": {
      "text/plain": [
       "[<matplotlib.lines.Line2D at 0x7f04db9ed240>]"
      ]
     },
     "execution_count": 205,
     "metadata": {},
     "output_type": "execute_result"
    },
    {
     "data": {
      "image/png": "[encoded data removed]",
      "text/plain": [
       "<Figure size 432x288 with 1 Axes>"
      ]
     },
     "metadata": {
      "needs_background": "light"
     },
     "output_type": "display_data"
    }
   ],
   "source": [
    "mus = []\n",
    "for i in range(1, 8):\n",
    "    generator = Generator(i)\n",
    "    generator.constructSystemOfEquations()\n",
    "    s = generator.stationary()\n",
    "    \n",
    "    solver = Solver(tau=i, d=10)\n",
    "    solver.stationary = s\n",
    "    mus.append(solver.calculateMean())\n",
    "    \n",
    "plt.plot(mus)"
   ]
  }
 ],
 "metadata": {
  "hide_input": false,
  "kernelspec": {
   "display_name": "Python 3",
   "language": "python",
   "name": "python3"
  },
  "language_info": {
   "codemirror_mode": {
    "name": "ipython",
    "version": 3
   },
   "file_extension": ".py",
   "mimetype": "text/x-python",
   "name": "python",
   "nbconvert_exporter": "python",
   "pygments_lexer": "ipython3",
   "version": "3.6.10"
  },
  "latex_envs": {
   "LaTeX_envs_menu_present": true,
   "autoclose": true,
   "autocomplete": true,
   "bibliofile": "biblio.bib",
   "cite_by": "apalike",
   "current_citInitial": 1,
   "eqLabelWithNumbers": false,
   "eqNumInitial": 1,
   "hotkeys": {
    "equation": "Ctrl-E",
    "itemize": "Ctrl-I"
   },
   "labels_anchors": false,
   "latex_user_defs": false,
   "report_style_numbering": false,
   "user_envs_cfg": false
  }
 },
 "nbformat": 4,
 "nbformat_minor": 2
}
