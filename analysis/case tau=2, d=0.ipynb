{
 "cells": [
  {
   "cell_type": "code",
   "execution_count": 98,
   "metadata": {},
   "outputs": [],
   "source": [
    "import sys\n",
    "sys.path.append(\"../\")"
   ]
  },
  {
   "cell_type": "code",
   "execution_count": 99,
   "metadata": {},
   "outputs": [],
   "source": [
    "import numpy as np\n",
    "from fractions import Fraction\n",
    "from delay.sequencefinder import find\n",
    "import delay.calculator as calc\n",
    "from delay.strategy import fA_HardInterval, fB_HardInterval\n",
    "from delay.simulation import Simulation, FunctionType\n",
    "from delay.value import calculateValue\n",
    "from delay.strategy import *"
   ]
  },
  {
   "cell_type": "code",
   "execution_count": 100,
   "metadata": {},
   "outputs": [],
   "source": [
    "A1 = np.array([\n",
    "    [1,   0,   0,   0,   0,   0,   0],\n",
    "    [1,  -1,  0,   0,   0,   0,   0],\n",
    "    [0, 1/2, -1/2, 1/4, 1/2,   0,   0],\n",
    "    [0, 1/4, 1/4,  -1/2,   0,   0,   0],\n",
    "    [0,   0,   0,   0,  -1, 1/2,   1],\n",
    "    [0, 1/4, 1/4,   0,   0,  -1,   0],\n",
    "    [0,   0,   0,   0,   0, 1/2,  -1]\n",
    "])\n",
    "A2 = np.array([\n",
    "    [ -1,   0, 1/2,   0,   0,   0,   0,   0],\n",
    "    [1/2,  -1/2, 1/4,   0,   0,   0,   0,   0],\n",
    "    [  0,   0,   1,   0,   0,   0,   0,   0],\n",
    "    [1/2, 1/2, 1/4,  -1,   0,   0,   0,   0],\n",
    "    [  0,   0,   0, 1/4,  -1/2,   0,   0,   0],\n",
    "    [  0,   0,   0, 1/4,   0,  -1,   0,   0],\n",
    "    [  0,   0,   0,   0,   0,   0,  -1,   1],\n",
    "    [  0,   0,   0, 1/4,   0,   0,   0,  -1]\n",
    "])"
   ]
  },
  {
   "cell_type": "code",
   "execution_count": 101,
   "metadata": {},
   "outputs": [],
   "source": [
    "B1 = np.array([1, 0, 0, 0, 0, 0, 0])\n",
    "B2 = np.array([0, 0, 2, 0, 0, 0, 0, 0])"
   ]
  },
  {
   "cell_type": "code",
   "execution_count": 102,
   "metadata": {},
   "outputs": [],
   "source": [
    "s1 = np.linalg.solve(A1, B1)\n",
    "s2 = np.linalg.solve(A2, B2)"
   ]
  },
  {
   "cell_type": "code",
   "execution_count": 103,
   "metadata": {},
   "outputs": [
    {
     "data": {
      "text/plain": [
       "array([1. , 1. , 3. , 2. , 1. , 1. , 0.5])"
      ]
     },
     "execution_count": 103,
     "metadata": {},
     "output_type": "execute_result"
    }
   ],
   "source": [
    "s1"
   ]
  },
  {
   "cell_type": "code",
   "execution_count": 104,
   "metadata": {},
   "outputs": [
    {
     "data": {
      "text/plain": [
       "array([1. , 2. , 2. , 2. , 1. , 0.5, 0.5, 0.5])"
      ]
     },
     "execution_count": 104,
     "metadata": {},
     "output_type": "execute_result"
    }
   ],
   "source": [
    "s2"
   ]
  },
  {
   "cell_type": "code",
   "execution_count": 105,
   "metadata": {},
   "outputs": [
    {
     "name": "stdout",
     "output_type": "stream",
     "text": [
      "[['1', '1', '3', '2', '1', '1', '1/2'], ['1', '2', '2', '2', '1', '1/2', '1/2', '1/2']]\n"
     ]
    }
   ],
   "source": [
    "print([[str(Fraction(p).limit_denominator(120)) for p in s] for s in [s1, s2]])"
   ]
  },
  {
   "cell_type": "code",
   "execution_count": 106,
   "metadata": {
    "run_control": {
     "marked": true
    }
   },
   "outputs": [
    {
     "name": "stdout",
     "output_type": "stream",
     "text": [
      "[104. 104. 312. 208. 104. 104.  52.] [104. 208. 208. 208. 104.  52.  52.  52.]\n"
     ]
    }
   ],
   "source": [
    "s1 *= 104\n",
    "s2 *= 104\n",
    "print(s1, s2)"
   ]
  },
  {
   "cell_type": "code",
   "execution_count": 107,
   "metadata": {},
   "outputs": [
    {
     "data": {
      "text/plain": [
       "[104.0, 520.0, 728.0, 416.0, 155.99999999999997, 52.0]"
      ]
     },
     "execution_count": 107,
     "metadata": {},
     "output_type": "execute_result"
    }
   ],
   "source": [
    "stationary = [s1[0], sum(s2[0:3]), sum(s1[1:5]), sum(s2[3:7]), sum(s1[5:7]), s2[7]]\n",
    "stationary"
   ]
  },
  {
   "cell_type": "code",
   "execution_count": 108,
   "metadata": {},
   "outputs": [
    {
     "data": {
      "text/plain": [
       "155.99999999999994"
      ]
     },
     "execution_count": 108,
     "metadata": {},
     "output_type": "execute_result"
    }
   ],
   "source": [
    "-2 * stationary[0] - stationary[1] + stationary[3] + 2 * stationary[4] + 3 * stationary[5]"
   ]
  },
  {
   "cell_type": "code",
   "execution_count": 109,
   "metadata": {},
   "outputs": [
    {
     "data": {
      "text/plain": [
       "1976.0"
      ]
     },
     "execution_count": 109,
     "metadata": {},
     "output_type": "execute_result"
    }
   ],
   "source": [
    "sum(stationary)"
   ]
  },
  {
   "cell_type": "code",
   "execution_count": 110,
   "metadata": {},
   "outputs": [],
   "source": [
    "simulation = Simulation(FunctionType.HARD_INTERVAL, (2, 0), calculateValue, calc.linear(N=10, w=1))\n",
    "simulation.setN(10)\n",
    "simulation.setConv(0)\n",
    "simulation.setDuration(100000) # 10^6\n",
    "simulation.setD(0)"
   ]
  },
  {
   "cell_type": "code",
   "execution_count": 111,
   "metadata": {},
   "outputs": [],
   "source": [
    "simulation.run()"
   ]
  },
  {
   "cell_type": "code",
   "execution_count": 112,
   "metadata": {},
   "outputs": [
    {
     "data": {
      "text/plain": [
       "[5230, 26289, 36918, 21078, 7853, 2633]"
      ]
     },
     "execution_count": 112,
     "metadata": {},
     "output_type": "execute_result"
    }
   ],
   "source": [
    "simStat = [find(simulation.x, [y]) for y in [-2, -1, 0, 1, 2, 3]]\n",
    "simStat"
   ]
  },
  {
   "cell_type": "code",
   "execution_count": 113,
   "metadata": {},
   "outputs": [
    {
     "data": {
      "text/plain": [
       "array([0.05229948, 0.26288737, 0.36917631, 0.21077789, 0.07852921,\n",
       "       0.02632974])"
      ]
     },
     "execution_count": 113,
     "metadata": {},
     "output_type": "execute_result"
    }
   ],
   "source": [
    "np.array(simStat) / sum(simStat)"
   ]
  },
  {
   "cell_type": "code",
   "execution_count": 114,
   "metadata": {},
   "outputs": [
    {
     "data": {
      "text/plain": [
       "array([103.64645264, 520.98692033, 731.62901308, 417.71700357,\n",
       "       155.62822037,  52.17994451])"
      ]
     },
     "execution_count": 114,
     "metadata": {},
     "output_type": "execute_result"
    }
   ],
   "source": [
    "np.array(simStat) / 50.46"
   ]
  },
  {
   "cell_type": "code",
   "execution_count": 115,
   "metadata": {},
   "outputs": [
    {
     "data": {
      "text/plain": [
       "(5230, 5230)"
      ]
     },
     "execution_count": 115,
     "metadata": {},
     "output_type": "execute_result"
    }
   ],
   "source": [
    "find(simulation.x, [-2, -1, 0]), find(simulation.x, [0, -1, -2])"
   ]
  },
  {
   "cell_type": "code",
   "execution_count": 116,
   "metadata": {},
   "outputs": [
    {
     "data": {
      "text/plain": [
       "(15829, 15798.75)"
      ]
     },
     "execution_count": 116,
     "metadata": {},
     "output_type": "execute_result"
    }
   ],
   "source": [
    "find(simulation.x, [0, -1, 0]), find(simulation.x, [-2, -1, 0])/2 + find(simulation.x, [0, -1, 0])/2 + find(simulation.x, [0, 1, 0])/4 + find(simulation.x, [2, 1, 0])/2"
   ]
  },
  {
   "cell_type": "code",
   "execution_count": 117,
   "metadata": {},
   "outputs": [
    {
     "data": {
      "text/plain": [
       "(10637, 10583.25)"
      ]
     },
     "execution_count": 117,
     "metadata": {},
     "output_type": "execute_result"
    }
   ],
   "source": [
    "find(simulation.x, [0, 1, 0]), find(simulation.x, [-2, -1, 0])/4 + find(simulation.x, [0, -1, 0])/4 + find(simulation.x, [0, 1, 0])/2"
   ]
  },
  {
   "cell_type": "code",
   "execution_count": 118,
   "metadata": {},
   "outputs": [
    {
     "data": {
      "text/plain": [
       "(5220, 5243.0)"
      ]
     },
     "execution_count": 118,
     "metadata": {},
     "output_type": "execute_result"
    }
   ],
   "source": [
    "find(simulation.x, [2, 1, 0]), find(simulation.x, [0, 1, 2])/2 + find(simulation.x, [2, 3, 2])"
   ]
  },
  {
   "cell_type": "code",
   "execution_count": 119,
   "metadata": {},
   "outputs": [
    {
     "data": {
      "text/plain": [
       "(2633, 2610.0)"
      ]
     },
     "execution_count": 119,
     "metadata": {},
     "output_type": "execute_result"
    }
   ],
   "source": [
    "find(simulation.x, [2, 3, 2]), find(simulation.x, [2, 1, 0])/2"
   ]
  },
  {
   "cell_type": "code",
   "execution_count": 120,
   "metadata": {},
   "outputs": [
    {
     "data": {
      "text/plain": [
       "(5230, 5232.5)"
      ]
     },
     "execution_count": 120,
     "metadata": {},
     "output_type": "execute_result"
    }
   ],
   "source": [
    "find(simulation.x, [-1, -2, -1]), find(simulation.x, [1, 0, -1])/2 "
   ]
  },
  {
   "cell_type": "code",
   "execution_count": 121,
   "metadata": {},
   "outputs": [
    {
     "data": {
      "text/plain": [
       "(10594, 10528.25)"
      ]
     },
     "execution_count": 121,
     "metadata": {},
     "output_type": "execute_result"
    }
   ],
   "source": [
    "find(simulation.x, [-1, 0, -1]), find(simulation.x, [-1, 0, -1])/2 + find(simulation.x, [-1, -2, -1])/2 + find(simulation.x, [1, 0, -1])/4"
   ]
  },
  {
   "cell_type": "code",
   "execution_count": 122,
   "metadata": {},
   "outputs": [
    {
     "data": {
      "text/plain": [
       "(10465, 10532.25)"
      ]
     },
     "execution_count": 122,
     "metadata": {},
     "output_type": "execute_result"
    }
   ],
   "source": [
    "find(simulation.x, [1, 0, -1]), find(simulation.x, [-1, 0, 1])/4 + find(simulation.x, [1, 0, 1])/2 + find(simulation.x, [1, 2, 1]) + find(simulation.x, [3, 2, 1])"
   ]
  },
  {
   "cell_type": "code",
   "execution_count": 123,
   "metadata": {},
   "outputs": [
    {
     "data": {
      "text/plain": [
       "(10465, 10528.25)"
      ]
     },
     "execution_count": 123,
     "metadata": {},
     "output_type": "execute_result"
    }
   ],
   "source": [
    "find(simulation.x, [-1, 0, 1]), find(simulation.x, [-1, -2, -1])/2 + find(simulation.x, [-1, 0, -1])/2 + find(simulation.x, [1, 0, -1])/4"
   ]
  },
  {
   "cell_type": "code",
   "execution_count": 124,
   "metadata": {},
   "outputs": [
    {
     "data": {
      "text/plain": [
       "(5392, 5312.25)"
      ]
     },
     "execution_count": 124,
     "metadata": {},
     "output_type": "execute_result"
    }
   ],
   "source": [
    "find(simulation.x, [1, 0, 1]), find(simulation.x, [-1, 0, 1])/4 + find(simulation.x, [1, 0, 1])/2"
   ]
  },
  {
   "cell_type": "code",
   "execution_count": 127,
   "metadata": {},
   "outputs": [
    {
     "data": {
      "text/plain": [
       "(2587, 2616.25)"
      ]
     },
     "execution_count": 127,
     "metadata": {},
     "output_type": "execute_result"
    }
   ],
   "source": [
    "find(simulation.x, [1, 2, 1]), find(simulation.x, [-1, 0, 1])/4"
   ]
  },
  {
   "cell_type": "code",
   "execution_count": 125,
   "metadata": {},
   "outputs": [],
   "source": [
    "fA = fA_HardInterval(N=10, d=0)\n",
    "fB = fB_HardInterval(N=10, d=0)"
   ]
  },
  {
   "cell_type": "code",
   "execution_count": 126,
   "metadata": {},
   "outputs": [],
   "source": [
    "lin = calc.linear(N=10, w=1)"
   ]
  }
 ],
 "metadata": {
  "hide_input": false,
  "kernelspec": {
   "display_name": "Python 3",
   "language": "python",
   "name": "python3"
  },
  "language_info": {
   "codemirror_mode": {
    "name": "ipython",
    "version": 3
   },
   "file_extension": ".py",
   "mimetype": "text/x-python",
   "name": "python",
   "nbconvert_exporter": "python",
   "pygments_lexer": "ipython3",
   "version": "3.6.10"
  },
  "latex_envs": {
   "LaTeX_envs_menu_present": true,
   "autoclose": true,
   "autocomplete": true,
   "bibliofile": "biblio.bib",
   "cite_by": "apalike",
   "current_citInitial": 1,
   "eqLabelWithNumbers": false,
   "eqNumInitial": 1,
   "hotkeys": {
    "equation": "Ctrl-E",
    "itemize": "Ctrl-I"
   },
   "labels_anchors": false,
   "latex_user_defs": false,
   "report_style_numbering": false,
   "user_envs_cfg": false
  }
 },
 "nbformat": 4,
 "nbformat_minor": 2
}
