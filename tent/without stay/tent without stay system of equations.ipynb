{
 "cells": [
  {
   "cell_type": "code",
   "execution_count": null,
   "metadata": {},
   "outputs": [],
   "source": [
    "import sys\n",
    "sys.path.append(\"../\")"
   ]
  },
  {
   "cell_type": "code",
   "execution_count": 48,
   "metadata": {},
   "outputs": [],
   "source": [
    "import numpy as np"
   ]
  },
  {
   "cell_type": "code",
   "execution_count": 49,
   "metadata": {},
   "outputs": [],
   "source": [
    "def printStationaryAndµAsFractions(stationary, mu):\n",
    "    s = sum(stationary)\n",
    "    sstat = ['%d/%d' % (x, s) for x in stationary]\n",
    "    print(', '.join(sstat))\n",
    "    print('µ = %d/%d' % (mu, s))"
   ]
  },
  {
   "cell_type": "code",
   "execution_count": 36,
   "metadata": {},
   "outputs": [],
   "source": [
    "def normalize(a):\n",
    "    return a/sum(a)"
   ]
  },
  {
   "cell_type": "code",
   "execution_count": 37,
   "metadata": {},
   "outputs": [],
   "source": [
    "A = np.array([\n",
    "        [0, 1/4, 1/4,   0,   0,   0,   0,   0, 0, 0],\n",
    "        [1,   0,   0,   0,   0,   0,   0,   0, 0, 0],\n",
    "        [0,   0,   0, 1/2, 3/4,   0,   0,   0, 0, 0],\n",
    "        [0, 3/4, 3/4,   0,   0,   0,   0,   0, 0, 0],\n",
    "        [0,   0,   0,   0,   0, 1/2,   1,   0, 0, 0],\n",
    "        [0,   0,   0, 1/2, 1/4,   0,   0,   0, 0, 0],\n",
    "        [0,   0,   0,   0,   0,   0,   0, 3/4, 1, 0],\n",
    "        [0,   0,   0,   0,   0, 1/2,   0,   0, 0, 0],\n",
    "        [0,   0,   0,   0,   0,   0,   0,   0, 0, 1],\n",
    "        [0,   0,   0,   0,   0,   0,   0, 1/4, 0, 0]\n",
    "])"
   ]
  },
  {
   "cell_type": "code",
   "execution_count": 38,
   "metadata": {},
   "outputs": [],
   "source": [
    "for i in range(len(A)):\n",
    "    A[0, i] = 0"
   ]
  },
  {
   "cell_type": "code",
   "execution_count": 39,
   "metadata": {},
   "outputs": [],
   "source": [
    "for i in range(1, len(A)):\n",
    "    A[i, i] -= 1\n",
    "    \n",
    "A[0, 0] = 1"
   ]
  },
  {
   "cell_type": "code",
   "execution_count": 40,
   "metadata": {},
   "outputs": [],
   "source": [
    "B = np.zeros(len(A))\n",
    "B[0] = 1"
   ]
  },
  {
   "cell_type": "code",
   "execution_count": 41,
   "metadata": {},
   "outputs": [
    {
     "name": "stdout",
     "output_type": "stream",
     "text": [
      "[[ 1.    0.    0.    0.    0.    0.    0.    0.    0.    0.  ]\n",
      " [ 1.   -1.    0.    0.    0.    0.    0.    0.    0.    0.  ]\n",
      " [ 0.    0.   -1.    0.5   0.75  0.    0.    0.    0.    0.  ]\n",
      " [ 0.    0.75  0.75 -1.    0.    0.    0.    0.    0.    0.  ]\n",
      " [ 0.    0.    0.    0.   -1.    0.5   1.    0.    0.    0.  ]\n",
      " [ 0.    0.    0.    0.5   0.25 -1.    0.    0.    0.    0.  ]\n",
      " [ 0.    0.    0.    0.    0.    0.   -1.    0.75  1.    0.  ]\n",
      " [ 0.    0.    0.    0.    0.    0.5   0.   -1.    0.    0.  ]\n",
      " [ 0.    0.    0.    0.    0.    0.    0.    0.   -1.    1.  ]\n",
      " [ 0.    0.    0.    0.    0.    0.    0.    0.25  0.   -1.  ]]\n"
     ]
    },
    {
     "data": {
      "text/plain": [
       "array([1., 0., 0., 0., 0., 0., 0., 0., 0., 0.])"
      ]
     },
     "execution_count": 41,
     "metadata": {},
     "output_type": "execute_result"
    }
   ],
   "source": [
    "print(A)\n",
    "B"
   ]
  },
  {
   "cell_type": "code",
   "execution_count": 51,
   "metadata": {},
   "outputs": [
    {
     "data": {
      "text/plain": [
       "array([ 4.,  4., 12., 12.,  8.,  8.,  4.,  4.,  1.,  1.])"
      ]
     },
     "execution_count": 51,
     "metadata": {},
     "output_type": "execute_result"
    }
   ],
   "source": [
    "stat = np.linalg.solve(A, B)\n",
    "stat"
   ]
  },
  {
   "cell_type": "code",
   "execution_count": 43,
   "metadata": {},
   "outputs": [
    {
     "data": {
      "text/plain": [
       "array([0.06896552, 0.27586207, 0.34482759, 0.20689655, 0.0862069 ,\n",
       "       0.01724138])"
      ]
     },
     "execution_count": 43,
     "metadata": {},
     "output_type": "execute_result"
    }
   ],
   "source": [
    "stat = np.array([stat[0], stat[1] + stat[2], stat[3] + stat[4], stat[5] + stat[6], stat[7]+stat[8], stat[9]])\n",
    "stat = normalize(stat)\n",
    "stat"
   ]
  },
  {
   "cell_type": "code",
   "execution_count": 44,
   "metadata": {},
   "outputs": [],
   "source": [
    "stateSpace = np.array([-2, -1, 0, 1, 2, 3])"
   ]
  },
  {
   "cell_type": "code",
   "execution_count": 45,
   "metadata": {},
   "outputs": [
    {
     "data": {
      "text/plain": [
       "0.017241379310344758"
      ]
     },
     "execution_count": 45,
     "metadata": {},
     "output_type": "execute_result"
    }
   ],
   "source": [
    "np.dot(stat, stateSpace)"
   ]
  },
  {
   "cell_type": "code",
   "execution_count": 54,
   "metadata": {},
   "outputs": [
    {
     "name": "stdout",
     "output_type": "stream",
     "text": [
      "4/58, 16/58, 20/58, 12/58, 5/58, 1/58\n",
      "µ = 1/58\n"
     ]
    }
   ],
   "source": [
    "stat = np.linalg.solve(A, B)\n",
    "stat = stat*4\n",
    "stat = np.array([stat[0], stat[1] + stat[2], stat[3] + stat[4], stat[5] + stat[6], stat[7]+stat[8], stat[9]])\n",
    "stat = np.rint(stat).astype(int)\n",
    "stateSpace = np.array([-2, -1, 0, 1, 2, 3])\n",
    "mu = np.dot(stat, stateSpace)\n",
    "printStationaryAndμAsFractions(stat, np.rint(mu).astype(int))"
   ]
  },
  {
   "cell_type": "code",
   "execution_count": 55,
   "metadata": {},
   "outputs": [
    {
     "name": "stdout",
     "output_type": "stream",
     "text": [
      "0.017241379310344827\n"
     ]
    }
   ],
   "source": [
    "print(1/58)"
   ]
  }
 ],
 "metadata": {
  "hide_input": false,
  "kernelspec": {
   "display_name": "Python 3",
   "language": "python",
   "name": "python3"
  },
  "language_info": {
   "codemirror_mode": {
    "name": "ipython",
    "version": 3
   },
   "file_extension": ".py",
   "mimetype": "text/x-python",
   "name": "python",
   "nbconvert_exporter": "python",
   "pygments_lexer": "ipython3",
   "version": "3.6.10"
  },
  "latex_envs": {
   "LaTeX_envs_menu_present": true,
   "autoclose": true,
   "autocomplete": true,
   "bibliofile": "biblio.bib",
   "cite_by": "apalike",
   "current_citInitial": 1,
   "eqLabelWithNumbers": false,
   "eqNumInitial": 1,
   "hotkeys": {
    "equation": "Ctrl-E",
    "itemize": "Ctrl-I"
   },
   "labels_anchors": false,
   "latex_user_defs": false,
   "report_style_numbering": false,
   "user_envs_cfg": false
  }
 },
 "nbformat": 4,
 "nbformat_minor": 2
}
